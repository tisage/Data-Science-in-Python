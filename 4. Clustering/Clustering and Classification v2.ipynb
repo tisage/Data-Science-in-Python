{
 "cells": [
  {
   "cell_type": "markdown",
   "metadata": {},
   "source": [
    "# Basic Clustering Analysis on Questionnaire\n",
    "\n",
    " - Clustering on three questions using K-means\n",
    " - Make clustering prediction\n",
    " - Using the clustering resutls to make classfication prediction\n",
    " \n",
    " - Clustering on three questions using SVD (LSA)\n",
    " - Return SVD values (n = 1, n = 2)\n",
    " - Use singular values as features in classificaiton prediction\n",
    " \n",
    " v.2"
   ]
  },
  {
   "cell_type": "code",
   "execution_count": 1,
   "metadata": {
    "ExecuteTime": {
     "end_time": "2021-03-09T00:04:57.127793Z",
     "start_time": "2021-03-09T00:04:56.636417Z"
    }
   },
   "outputs": [],
   "source": [
    "import pandas as pd\n",
    "\n",
    "from sklearn.feature_extraction.text import TfidfVectorizer\n",
    "\n",
    "import matplotlib.pyplot as plt\n",
    "from sklearn.cluster import KMeans\n",
    "from sklearn.decomposition import PCA\n",
    "from sklearn.decomposition import TruncatedSVD\n",
    "\n",
    "from sklearn.linear_model import LinearRegression\n",
    "from sklearn.ensemble import RandomForestClassifier\n",
    "from sklearn.metrics import classification_report\n",
    "\n",
    "pd.options.mode.chained_assignment = None"
   ]
  },
  {
   "cell_type": "code",
   "execution_count": 2,
   "metadata": {
    "ExecuteTime": {
     "end_time": "2021-03-09T00:04:57.147380Z",
     "start_time": "2021-03-09T00:04:57.129365Z"
    }
   },
   "outputs": [
    {
     "data": {
      "text/html": [
       "<div>\n",
       "<style scoped>\n",
       "    .dataframe tbody tr th:only-of-type {\n",
       "        vertical-align: middle;\n",
       "    }\n",
       "\n",
       "    .dataframe tbody tr th {\n",
       "        vertical-align: top;\n",
       "    }\n",
       "\n",
       "    .dataframe thead th {\n",
       "        text-align: right;\n",
       "    }\n",
       "</style>\n",
       "<table border=\"1\" class=\"dataframe\">\n",
       "  <thead>\n",
       "    <tr style=\"text-align: right;\">\n",
       "      <th></th>\n",
       "      <th>UID-G-NR</th>\n",
       "      <th>Gender</th>\n",
       "      <th>Major</th>\n",
       "      <th>Class</th>\n",
       "      <th>Q1 Raw</th>\n",
       "      <th>Q2 Raw</th>\n",
       "      <th>Q3 Raw</th>\n",
       "    </tr>\n",
       "  </thead>\n",
       "  <tbody>\n",
       "    <tr>\n",
       "      <th>0</th>\n",
       "      <td>UID-A-1</td>\n",
       "      <td>Male</td>\n",
       "      <td>Business</td>\n",
       "      <td>Senior</td>\n",
       "      <td>the body of technologies, processes and practi...</td>\n",
       "      <td>Long and precise</td>\n",
       "      <td>Making sure you're making secure payments</td>\n",
       "    </tr>\n",
       "    <tr>\n",
       "      <th>1</th>\n",
       "      <td>UID-A-2</td>\n",
       "      <td>Female</td>\n",
       "      <td>Business</td>\n",
       "      <td>Junior</td>\n",
       "      <td>Certain programs that protect websites from ha...</td>\n",
       "      <td>Different characters and numbers</td>\n",
       "      <td>Companies pay other companies to protect their...</td>\n",
       "    </tr>\n",
       "    <tr>\n",
       "      <th>2</th>\n",
       "      <td>UID-A-3</td>\n",
       "      <td>Female</td>\n",
       "      <td>Business</td>\n",
       "      <td>Senior</td>\n",
       "      <td>to protect me from bad things such as fraud an...</td>\n",
       "      <td>capital and lower letters and many numbers.\\n</td>\n",
       "      <td>everything is private</td>\n",
       "    </tr>\n",
       "    <tr>\n",
       "      <th>3</th>\n",
       "      <td>UID-A-4</td>\n",
       "      <td>Male</td>\n",
       "      <td>Business</td>\n",
       "      <td>Sophomore</td>\n",
       "      <td>Cyber security is just secuirty and protection...</td>\n",
       "      <td>Both characters, numbers, special numbers and ...</td>\n",
       "      <td>Security is achieved through some type of encr...</td>\n",
       "    </tr>\n",
       "    <tr>\n",
       "      <th>4</th>\n",
       "      <td>UID-A-5</td>\n",
       "      <td>Female</td>\n",
       "      <td>Business</td>\n",
       "      <td>Sophomore</td>\n",
       "      <td>It is a form of security that protects individ...</td>\n",
       "      <td>A strong password consists of uppercase and lo...</td>\n",
       "      <td>A software that protects online consumers</td>\n",
       "    </tr>\n",
       "  </tbody>\n",
       "</table>\n",
       "</div>"
      ],
      "text/plain": [
       "  UID-G-NR  Gender     Major      Class  \\\n",
       "0  UID-A-1    Male  Business     Senior   \n",
       "1  UID-A-2  Female  Business     Junior   \n",
       "2  UID-A-3  Female  Business     Senior   \n",
       "3  UID-A-4    Male  Business  Sophomore   \n",
       "4  UID-A-5  Female  Business  Sophomore   \n",
       "\n",
       "                                              Q1 Raw  \\\n",
       "0  the body of technologies, processes and practi...   \n",
       "1  Certain programs that protect websites from ha...   \n",
       "2  to protect me from bad things such as fraud an...   \n",
       "3  Cyber security is just secuirty and protection...   \n",
       "4  It is a form of security that protects individ...   \n",
       "\n",
       "                                              Q2 Raw  \\\n",
       "0                                  Long and precise    \n",
       "1                   Different characters and numbers   \n",
       "2      capital and lower letters and many numbers.\\n   \n",
       "3  Both characters, numbers, special numbers and ...   \n",
       "4  A strong password consists of uppercase and lo...   \n",
       "\n",
       "                                              Q3 Raw  \n",
       "0          Making sure you're making secure payments  \n",
       "1  Companies pay other companies to protect their...  \n",
       "2                             everything is private   \n",
       "3  Security is achieved through some type of encr...  \n",
       "4          A software that protects online consumers  "
      ]
     },
     "execution_count": 2,
     "metadata": {},
     "output_type": "execute_result"
    }
   ],
   "source": [
    "data = pd.read_csv('Clustering_DataSet.csv', header = 0, usecols=['UID-G-NR', 'Gender', 'Major', 'Class', \n",
    "                                                                  'Q1 Raw', 'Q2 Raw', 'Q3 Raw'])\n",
    "data.head()"
   ]
  },
  {
   "cell_type": "code",
   "execution_count": 3,
   "metadata": {
    "ExecuteTime": {
     "end_time": "2021-03-09T00:04:57.151470Z",
     "start_time": "2021-03-09T00:04:57.148711Z"
    }
   },
   "outputs": [
    {
     "data": {
      "text/plain": [
       "(999, 7)"
      ]
     },
     "execution_count": 3,
     "metadata": {},
     "output_type": "execute_result"
    }
   ],
   "source": [
    "data.shape"
   ]
  },
  {
   "cell_type": "code",
   "execution_count": 4,
   "metadata": {
    "ExecuteTime": {
     "end_time": "2021-03-09T00:04:57.161496Z",
     "start_time": "2021-03-09T00:04:57.152708Z"
    }
   },
   "outputs": [
    {
     "data": {
      "text/plain": [
       "(134, 7)"
      ]
     },
     "execution_count": 4,
     "metadata": {},
     "output_type": "execute_result"
    }
   ],
   "source": [
    "# remove nan data\n",
    "df = data.dropna(subset=['Q1 Raw', 'Q2 Raw', 'Q3 Raw'])\n",
    "df.shape"
   ]
  },
  {
   "cell_type": "code",
   "execution_count": 5,
   "metadata": {
    "ExecuteTime": {
     "end_time": "2021-03-09T00:04:57.167417Z",
     "start_time": "2021-03-09T00:04:57.163033Z"
    },
    "scrolled": true
   },
   "outputs": [
    {
     "data": {
      "text/plain": [
       "['Business', 'Computing', 'LiberalArts', 'Other', 'Nursing']"
      ]
     },
     "execution_count": 5,
     "metadata": {},
     "output_type": "execute_result"
    }
   ],
   "source": [
    "major_list = df.Major.unique().tolist()\n",
    "major_list"
   ]
  },
  {
   "cell_type": "markdown",
   "metadata": {},
   "source": [
    "## Clustering using K-means\n",
    "\n",
    "Run K-means Clustering on Q1, Q2 and Q3 seperatly.\n"
   ]
  },
  {
   "cell_type": "code",
   "execution_count": 6,
   "metadata": {
    "ExecuteTime": {
     "end_time": "2021-03-09T00:04:57.174617Z",
     "start_time": "2021-03-09T00:04:57.168824Z"
    }
   },
   "outputs": [
    {
     "data": {
      "text/plain": [
       "'the body of technologies, processes and practices designed to protect networks, computers, programs and data from attack,'"
      ]
     },
     "execution_count": 6,
     "metadata": {},
     "output_type": "execute_result"
    }
   ],
   "source": [
    "q1_content = df['Q1 Raw'].values\n",
    "q2_content = df['Q2 Raw'].values\n",
    "q3_content = df['Q3 Raw'].values\n",
    "\n",
    "q1_content[0]"
   ]
  },
  {
   "cell_type": "markdown",
   "metadata": {},
   "source": [
    "### Vectorization"
   ]
  },
  {
   "cell_type": "code",
   "execution_count": 7,
   "metadata": {
    "ExecuteTime": {
     "end_time": "2021-03-09T00:04:57.191091Z",
     "start_time": "2021-03-09T00:04:57.176521Z"
    }
   },
   "outputs": [],
   "source": [
    "# convert questions into numerical vectors\n",
    "vectorizer = TfidfVectorizer(stop_words={'english'})\n",
    "X_1 = vectorizer.fit_transform(q1_content)\n",
    "\n",
    "vectorizer = TfidfVectorizer(stop_words={'english'})\n",
    "X_2 = vectorizer.fit_transform(q2_content)\n",
    "\n",
    "vectorizer = TfidfVectorizer(stop_words={'english'})\n",
    "X_3 = vectorizer.fit_transform(q3_content)"
   ]
  },
  {
   "cell_type": "markdown",
   "metadata": {},
   "source": [
    "### K-means"
   ]
  },
  {
   "cell_type": "code",
   "execution_count": 8,
   "metadata": {
    "ExecuteTime": {
     "end_time": "2021-03-09T00:04:57.266857Z",
     "start_time": "2021-03-09T00:04:57.192545Z"
    }
   },
   "outputs": [],
   "source": [
    "# k-means\n",
    "true_k = 2\n",
    "\n",
    "model_1 = KMeans(n_clusters=true_k, init='k-means++', max_iter=200, n_init=10)\n",
    "model_1.fit(X_1)\n",
    "labels_1 = model_1.labels_\n",
    "\n",
    "model_2 = KMeans(n_clusters=true_k, init='k-means++', max_iter=200, n_init=10)\n",
    "model_2.fit(X_2)\n",
    "labels_2 = model_2.labels_\n",
    "\n",
    "model_3 = KMeans(n_clusters=true_k, init='k-means++', max_iter=200, n_init=10)\n",
    "model_3.fit(X_3)\n",
    "labels_3 = model_3.labels_"
   ]
  },
  {
   "cell_type": "code",
   "execution_count": 9,
   "metadata": {
    "ExecuteTime": {
     "end_time": "2021-03-09T00:04:57.273103Z",
     "start_time": "2021-03-09T00:04:57.268405Z"
    },
    "scrolled": false
   },
   "outputs": [],
   "source": [
    "# assigning cluster number to data frame\n",
    "df['cluter_q1'] = labels_1\n",
    "df['cluter_q2'] = labels_2\n",
    "df['cluter_q3'] = labels_3"
   ]
  },
  {
   "cell_type": "code",
   "execution_count": 10,
   "metadata": {
    "ExecuteTime": {
     "end_time": "2021-03-09T00:04:57.288097Z",
     "start_time": "2021-03-09T00:04:57.274841Z"
    },
    "scrolled": true
   },
   "outputs": [
    {
     "data": {
      "text/html": [
       "<div>\n",
       "<style scoped>\n",
       "    .dataframe tbody tr th:only-of-type {\n",
       "        vertical-align: middle;\n",
       "    }\n",
       "\n",
       "    .dataframe tbody tr th {\n",
       "        vertical-align: top;\n",
       "    }\n",
       "\n",
       "    .dataframe thead th {\n",
       "        text-align: right;\n",
       "    }\n",
       "</style>\n",
       "<table border=\"1\" class=\"dataframe\">\n",
       "  <thead>\n",
       "    <tr style=\"text-align: right;\">\n",
       "      <th></th>\n",
       "      <th>UID-G-NR</th>\n",
       "      <th>Gender</th>\n",
       "      <th>Major</th>\n",
       "      <th>Class</th>\n",
       "      <th>Q1 Raw</th>\n",
       "      <th>Q2 Raw</th>\n",
       "      <th>Q3 Raw</th>\n",
       "      <th>cluter_q1</th>\n",
       "      <th>cluter_q2</th>\n",
       "      <th>cluter_q3</th>\n",
       "    </tr>\n",
       "  </thead>\n",
       "  <tbody>\n",
       "    <tr>\n",
       "      <th>0</th>\n",
       "      <td>UID-A-1</td>\n",
       "      <td>Male</td>\n",
       "      <td>Business</td>\n",
       "      <td>Senior</td>\n",
       "      <td>the body of technologies, processes and practi...</td>\n",
       "      <td>Long and precise</td>\n",
       "      <td>Making sure you're making secure payments</td>\n",
       "      <td>1</td>\n",
       "      <td>0</td>\n",
       "      <td>0</td>\n",
       "    </tr>\n",
       "    <tr>\n",
       "      <th>1</th>\n",
       "      <td>UID-A-2</td>\n",
       "      <td>Female</td>\n",
       "      <td>Business</td>\n",
       "      <td>Junior</td>\n",
       "      <td>Certain programs that protect websites from ha...</td>\n",
       "      <td>Different characters and numbers</td>\n",
       "      <td>Companies pay other companies to protect their...</td>\n",
       "      <td>1</td>\n",
       "      <td>0</td>\n",
       "      <td>0</td>\n",
       "    </tr>\n",
       "    <tr>\n",
       "      <th>2</th>\n",
       "      <td>UID-A-3</td>\n",
       "      <td>Female</td>\n",
       "      <td>Business</td>\n",
       "      <td>Senior</td>\n",
       "      <td>to protect me from bad things such as fraud an...</td>\n",
       "      <td>capital and lower letters and many numbers.\\n</td>\n",
       "      <td>everything is private</td>\n",
       "      <td>1</td>\n",
       "      <td>0</td>\n",
       "      <td>0</td>\n",
       "    </tr>\n",
       "    <tr>\n",
       "      <th>3</th>\n",
       "      <td>UID-A-4</td>\n",
       "      <td>Male</td>\n",
       "      <td>Business</td>\n",
       "      <td>Sophomore</td>\n",
       "      <td>Cyber security is just secuirty and protection...</td>\n",
       "      <td>Both characters, numbers, special numbers and ...</td>\n",
       "      <td>Security is achieved through some type of encr...</td>\n",
       "      <td>1</td>\n",
       "      <td>1</td>\n",
       "      <td>1</td>\n",
       "    </tr>\n",
       "    <tr>\n",
       "      <th>4</th>\n",
       "      <td>UID-A-5</td>\n",
       "      <td>Female</td>\n",
       "      <td>Business</td>\n",
       "      <td>Sophomore</td>\n",
       "      <td>It is a form of security that protects individ...</td>\n",
       "      <td>A strong password consists of uppercase and lo...</td>\n",
       "      <td>A software that protects online consumers</td>\n",
       "      <td>1</td>\n",
       "      <td>0</td>\n",
       "      <td>0</td>\n",
       "    </tr>\n",
       "  </tbody>\n",
       "</table>\n",
       "</div>"
      ],
      "text/plain": [
       "  UID-G-NR  Gender     Major      Class  \\\n",
       "0  UID-A-1    Male  Business     Senior   \n",
       "1  UID-A-2  Female  Business     Junior   \n",
       "2  UID-A-3  Female  Business     Senior   \n",
       "3  UID-A-4    Male  Business  Sophomore   \n",
       "4  UID-A-5  Female  Business  Sophomore   \n",
       "\n",
       "                                              Q1 Raw  \\\n",
       "0  the body of technologies, processes and practi...   \n",
       "1  Certain programs that protect websites from ha...   \n",
       "2  to protect me from bad things such as fraud an...   \n",
       "3  Cyber security is just secuirty and protection...   \n",
       "4  It is a form of security that protects individ...   \n",
       "\n",
       "                                              Q2 Raw  \\\n",
       "0                                  Long and precise    \n",
       "1                   Different characters and numbers   \n",
       "2      capital and lower letters and many numbers.\\n   \n",
       "3  Both characters, numbers, special numbers and ...   \n",
       "4  A strong password consists of uppercase and lo...   \n",
       "\n",
       "                                              Q3 Raw  cluter_q1  cluter_q2  \\\n",
       "0          Making sure you're making secure payments          1          0   \n",
       "1  Companies pay other companies to protect their...          1          0   \n",
       "2                             everything is private           1          0   \n",
       "3  Security is achieved through some type of encr...          1          1   \n",
       "4          A software that protects online consumers          1          0   \n",
       "\n",
       "   cluter_q3  \n",
       "0          0  \n",
       "1          0  \n",
       "2          0  \n",
       "3          1  \n",
       "4          0  "
      ]
     },
     "execution_count": 10,
     "metadata": {},
     "output_type": "execute_result"
    }
   ],
   "source": [
    "df.head()"
   ]
  },
  {
   "cell_type": "markdown",
   "metadata": {},
   "source": [
    "`cluster_q1` indicates which cluster number K-means algorithms predicted for question 1.\n",
    "`cluster_q2` indicates which cluster number K-means algorithms predicted for question 2.\n",
    "`cluster_q3` indicates which cluster number K-means algorithms predicted for question 3.\n",
    "\n",
    "Now we are ready to do some further experinment, such as regression analysis or classification prediction.\n",
    "\n",
    "For example, let's run a simple classificaiton using the features we have."
   ]
  },
  {
   "cell_type": "markdown",
   "metadata": {},
   "source": [
    "### Clustering using SVD\n",
    "\n",
    "Dimensionality reduction using truncated SVD (aka LSA).\n",
    "\n",
    "This transformer performs linear dimensionality reduction by means of truncated singular value decomposition (SVD). Contrary to PCA, this estimator does not center the data before computing the singular value decomposition. This means it can work with sparse matrices efficiently such as vectorized matrices.\n",
    "\n",
    "https://scikit-learn.org/stable/modules/generated/sklearn.decomposition.TruncatedSVD.html\n",
    "https://machinelearningmastery.com/singular-value-decomposition-for-machine-learning/"
   ]
  },
  {
   "cell_type": "markdown",
   "metadata": {},
   "source": [
    "### Try `n_components = 1`"
   ]
  },
  {
   "cell_type": "code",
   "execution_count": 11,
   "metadata": {
    "ExecuteTime": {
     "end_time": "2021-03-09T00:04:57.300514Z",
     "start_time": "2021-03-09T00:04:57.289342Z"
    }
   },
   "outputs": [],
   "source": [
    "n = 1\n",
    "\n",
    "svd = TruncatedSVD(n_components=n, random_state=42)\n",
    "svd_1 = svd.fit_transform(X_1) \n",
    "\n",
    "svd = TruncatedSVD(n_components=n, random_state=42)\n",
    "svd_2 = svd.fit_transform(X_2)\n",
    "\n",
    "svd = TruncatedSVD(n_components=n, random_state=42)\n",
    "svd_3 = svd.fit_transform(X_3) "
   ]
  },
  {
   "cell_type": "code",
   "execution_count": 12,
   "metadata": {
    "ExecuteTime": {
     "end_time": "2021-03-09T00:04:57.305508Z",
     "start_time": "2021-03-09T00:04:57.301564Z"
    }
   },
   "outputs": [],
   "source": [
    "# add SVD results into new columns\n",
    "df['svd_1'] = svd_1\n",
    "df['svd_2'] = svd_2\n",
    "df['svd_3'] = svd_3"
   ]
  },
  {
   "cell_type": "markdown",
   "metadata": {},
   "source": [
    "### Try `n_components = 2`"
   ]
  },
  {
   "cell_type": "code",
   "execution_count": 13,
   "metadata": {
    "ExecuteTime": {
     "end_time": "2021-03-09T00:04:57.317247Z",
     "start_time": "2021-03-09T00:04:57.306864Z"
    }
   },
   "outputs": [],
   "source": [
    "n = 2\n",
    "\n",
    "svd = TruncatedSVD(n_components=n, random_state=42)\n",
    "svd_1 = svd.fit_transform(X_1) \n",
    "\n",
    "svd = TruncatedSVD(n_components=n, random_state=42)\n",
    "svd_2 = svd.fit_transform(X_2)\n",
    "\n",
    "svd = TruncatedSVD(n_components=n, random_state=42)\n",
    "svd_3 = svd.fit_transform(X_3) "
   ]
  },
  {
   "cell_type": "code",
   "execution_count": 14,
   "metadata": {
    "ExecuteTime": {
     "end_time": "2021-03-09T00:04:57.323503Z",
     "start_time": "2021-03-09T00:04:57.318305Z"
    }
   },
   "outputs": [],
   "source": [
    "# add SVD results into new columns\n",
    "# since n_components = 2, we have two svd values returns\n",
    "\n",
    "df['svd_1_1'] = svd_1[:,0]\n",
    "df['svd_1_2'] = svd_1[:,1]\n",
    "\n",
    "df['svd_2_1'] = svd_2[:,0]\n",
    "df['svd_2_2'] = svd_2[:,1]\n",
    "\n",
    "df['svd_3_1'] = svd_3[:,0]\n",
    "df['svd_3_2'] = svd_3[:,1]"
   ]
  },
  {
   "cell_type": "code",
   "execution_count": 15,
   "metadata": {
    "ExecuteTime": {
     "end_time": "2021-03-09T00:04:57.340476Z",
     "start_time": "2021-03-09T00:04:57.324562Z"
    }
   },
   "outputs": [
    {
     "data": {
      "text/html": [
       "<div>\n",
       "<style scoped>\n",
       "    .dataframe tbody tr th:only-of-type {\n",
       "        vertical-align: middle;\n",
       "    }\n",
       "\n",
       "    .dataframe tbody tr th {\n",
       "        vertical-align: top;\n",
       "    }\n",
       "\n",
       "    .dataframe thead th {\n",
       "        text-align: right;\n",
       "    }\n",
       "</style>\n",
       "<table border=\"1\" class=\"dataframe\">\n",
       "  <thead>\n",
       "    <tr style=\"text-align: right;\">\n",
       "      <th></th>\n",
       "      <th>UID-G-NR</th>\n",
       "      <th>Gender</th>\n",
       "      <th>Major</th>\n",
       "      <th>Class</th>\n",
       "      <th>Q1 Raw</th>\n",
       "      <th>Q2 Raw</th>\n",
       "      <th>Q3 Raw</th>\n",
       "      <th>cluter_q1</th>\n",
       "      <th>cluter_q2</th>\n",
       "      <th>cluter_q3</th>\n",
       "      <th>svd_1</th>\n",
       "      <th>svd_2</th>\n",
       "      <th>svd_3</th>\n",
       "      <th>svd_1_1</th>\n",
       "      <th>svd_1_2</th>\n",
       "      <th>svd_2_1</th>\n",
       "      <th>svd_2_2</th>\n",
       "      <th>svd_3_1</th>\n",
       "      <th>svd_3_2</th>\n",
       "    </tr>\n",
       "  </thead>\n",
       "  <tbody>\n",
       "    <tr>\n",
       "      <th>0</th>\n",
       "      <td>UID-A-1</td>\n",
       "      <td>Male</td>\n",
       "      <td>Business</td>\n",
       "      <td>Senior</td>\n",
       "      <td>the body of technologies, processes and practi...</td>\n",
       "      <td>Long and precise</td>\n",
       "      <td>Making sure you're making secure payments</td>\n",
       "      <td>1</td>\n",
       "      <td>0</td>\n",
       "      <td>0</td>\n",
       "      <td>0.259529</td>\n",
       "      <td>0.130182</td>\n",
       "      <td>0.188329</td>\n",
       "      <td>0.259521</td>\n",
       "      <td>0.032111</td>\n",
       "      <td>0.130176</td>\n",
       "      <td>0.042820</td>\n",
       "      <td>0.188346</td>\n",
       "      <td>-0.113996</td>\n",
       "    </tr>\n",
       "    <tr>\n",
       "      <th>1</th>\n",
       "      <td>UID-A-2</td>\n",
       "      <td>Female</td>\n",
       "      <td>Business</td>\n",
       "      <td>Junior</td>\n",
       "      <td>Certain programs that protect websites from ha...</td>\n",
       "      <td>Different characters and numbers</td>\n",
       "      <td>Companies pay other companies to protect their...</td>\n",
       "      <td>1</td>\n",
       "      <td>0</td>\n",
       "      <td>0</td>\n",
       "      <td>0.173411</td>\n",
       "      <td>0.389092</td>\n",
       "      <td>0.107757</td>\n",
       "      <td>0.173407</td>\n",
       "      <td>-0.060382</td>\n",
       "      <td>0.389096</td>\n",
       "      <td>0.176357</td>\n",
       "      <td>0.107792</td>\n",
       "      <td>-0.040546</td>\n",
       "    </tr>\n",
       "    <tr>\n",
       "      <th>2</th>\n",
       "      <td>UID-A-3</td>\n",
       "      <td>Female</td>\n",
       "      <td>Business</td>\n",
       "      <td>Senior</td>\n",
       "      <td>to protect me from bad things such as fraud an...</td>\n",
       "      <td>capital and lower letters and many numbers.\\n</td>\n",
       "      <td>everything is private</td>\n",
       "      <td>1</td>\n",
       "      <td>0</td>\n",
       "      <td>0</td>\n",
       "      <td>0.168492</td>\n",
       "      <td>0.396580</td>\n",
       "      <td>0.091454</td>\n",
       "      <td>0.168485</td>\n",
       "      <td>-0.033793</td>\n",
       "      <td>0.396577</td>\n",
       "      <td>0.116475</td>\n",
       "      <td>0.091468</td>\n",
       "      <td>0.006161</td>\n",
       "    </tr>\n",
       "    <tr>\n",
       "      <th>3</th>\n",
       "      <td>UID-A-4</td>\n",
       "      <td>Male</td>\n",
       "      <td>Business</td>\n",
       "      <td>Sophomore</td>\n",
       "      <td>Cyber security is just secuirty and protection...</td>\n",
       "      <td>Both characters, numbers, special numbers and ...</td>\n",
       "      <td>Security is achieved through some type of encr...</td>\n",
       "      <td>1</td>\n",
       "      <td>1</td>\n",
       "      <td>1</td>\n",
       "      <td>0.279454</td>\n",
       "      <td>0.478717</td>\n",
       "      <td>0.198504</td>\n",
       "      <td>0.279456</td>\n",
       "      <td>-0.002025</td>\n",
       "      <td>0.478719</td>\n",
       "      <td>0.473946</td>\n",
       "      <td>0.198527</td>\n",
       "      <td>0.127060</td>\n",
       "    </tr>\n",
       "    <tr>\n",
       "      <th>4</th>\n",
       "      <td>UID-A-5</td>\n",
       "      <td>Female</td>\n",
       "      <td>Business</td>\n",
       "      <td>Sophomore</td>\n",
       "      <td>It is a form of security that protects individ...</td>\n",
       "      <td>A strong password consists of uppercase and lo...</td>\n",
       "      <td>A software that protects online consumers</td>\n",
       "      <td>1</td>\n",
       "      <td>0</td>\n",
       "      <td>0</td>\n",
       "      <td>0.287306</td>\n",
       "      <td>0.364646</td>\n",
       "      <td>0.115523</td>\n",
       "      <td>0.287311</td>\n",
       "      <td>-0.086706</td>\n",
       "      <td>0.364646</td>\n",
       "      <td>-0.162954</td>\n",
       "      <td>0.115499</td>\n",
       "      <td>0.000475</td>\n",
       "    </tr>\n",
       "  </tbody>\n",
       "</table>\n",
       "</div>"
      ],
      "text/plain": [
       "  UID-G-NR  Gender     Major      Class  \\\n",
       "0  UID-A-1    Male  Business     Senior   \n",
       "1  UID-A-2  Female  Business     Junior   \n",
       "2  UID-A-3  Female  Business     Senior   \n",
       "3  UID-A-4    Male  Business  Sophomore   \n",
       "4  UID-A-5  Female  Business  Sophomore   \n",
       "\n",
       "                                              Q1 Raw  \\\n",
       "0  the body of technologies, processes and practi...   \n",
       "1  Certain programs that protect websites from ha...   \n",
       "2  to protect me from bad things such as fraud an...   \n",
       "3  Cyber security is just secuirty and protection...   \n",
       "4  It is a form of security that protects individ...   \n",
       "\n",
       "                                              Q2 Raw  \\\n",
       "0                                  Long and precise    \n",
       "1                   Different characters and numbers   \n",
       "2      capital and lower letters and many numbers.\\n   \n",
       "3  Both characters, numbers, special numbers and ...   \n",
       "4  A strong password consists of uppercase and lo...   \n",
       "\n",
       "                                              Q3 Raw  cluter_q1  cluter_q2  \\\n",
       "0          Making sure you're making secure payments          1          0   \n",
       "1  Companies pay other companies to protect their...          1          0   \n",
       "2                             everything is private           1          0   \n",
       "3  Security is achieved through some type of encr...          1          1   \n",
       "4          A software that protects online consumers          1          0   \n",
       "\n",
       "   cluter_q3     svd_1     svd_2     svd_3   svd_1_1   svd_1_2   svd_2_1  \\\n",
       "0          0  0.259529  0.130182  0.188329  0.259521  0.032111  0.130176   \n",
       "1          0  0.173411  0.389092  0.107757  0.173407 -0.060382  0.389096   \n",
       "2          0  0.168492  0.396580  0.091454  0.168485 -0.033793  0.396577   \n",
       "3          1  0.279454  0.478717  0.198504  0.279456 -0.002025  0.478719   \n",
       "4          0  0.287306  0.364646  0.115523  0.287311 -0.086706  0.364646   \n",
       "\n",
       "    svd_2_2   svd_3_1   svd_3_2  \n",
       "0  0.042820  0.188346 -0.113996  \n",
       "1  0.176357  0.107792 -0.040546  \n",
       "2  0.116475  0.091468  0.006161  \n",
       "3  0.473946  0.198527  0.127060  \n",
       "4 -0.162954  0.115499  0.000475  "
      ]
     },
     "execution_count": 15,
     "metadata": {},
     "output_type": "execute_result"
    }
   ],
   "source": [
    "df.head()"
   ]
  },
  {
   "cell_type": "markdown",
   "metadata": {},
   "source": [
    "## Classification"
   ]
  },
  {
   "cell_type": "code",
   "execution_count": 16,
   "metadata": {
    "ExecuteTime": {
     "end_time": "2021-03-09T00:04:57.360690Z",
     "start_time": "2021-03-09T00:04:57.342073Z"
    }
   },
   "outputs": [
    {
     "data": {
      "text/html": [
       "<div>\n",
       "<style scoped>\n",
       "    .dataframe tbody tr th:only-of-type {\n",
       "        vertical-align: middle;\n",
       "    }\n",
       "\n",
       "    .dataframe tbody tr th {\n",
       "        vertical-align: top;\n",
       "    }\n",
       "\n",
       "    .dataframe thead th {\n",
       "        text-align: right;\n",
       "    }\n",
       "</style>\n",
       "<table border=\"1\" class=\"dataframe\">\n",
       "  <thead>\n",
       "    <tr style=\"text-align: right;\">\n",
       "      <th></th>\n",
       "      <th>UID-G-NR</th>\n",
       "      <th>Gender</th>\n",
       "      <th>Major</th>\n",
       "      <th>Class</th>\n",
       "      <th>Q1 Raw</th>\n",
       "      <th>Q2 Raw</th>\n",
       "      <th>Q3 Raw</th>\n",
       "      <th>cluter_q1</th>\n",
       "      <th>cluter_q2</th>\n",
       "      <th>cluter_q3</th>\n",
       "      <th>svd_1</th>\n",
       "      <th>svd_2</th>\n",
       "      <th>svd_3</th>\n",
       "      <th>svd_1_1</th>\n",
       "      <th>svd_1_2</th>\n",
       "      <th>svd_2_1</th>\n",
       "      <th>svd_2_2</th>\n",
       "      <th>svd_3_1</th>\n",
       "      <th>svd_3_2</th>\n",
       "    </tr>\n",
       "  </thead>\n",
       "  <tbody>\n",
       "    <tr>\n",
       "      <th>0</th>\n",
       "      <td>UID-A-1</td>\n",
       "      <td>Male</td>\n",
       "      <td>Business</td>\n",
       "      <td>Senior</td>\n",
       "      <td>the body of technologies, processes and practi...</td>\n",
       "      <td>Long and precise</td>\n",
       "      <td>Making sure you're making secure payments</td>\n",
       "      <td>1</td>\n",
       "      <td>0</td>\n",
       "      <td>0</td>\n",
       "      <td>0.259529</td>\n",
       "      <td>0.130182</td>\n",
       "      <td>0.188329</td>\n",
       "      <td>0.259521</td>\n",
       "      <td>0.032111</td>\n",
       "      <td>0.130176</td>\n",
       "      <td>0.042820</td>\n",
       "      <td>0.188346</td>\n",
       "      <td>-0.113996</td>\n",
       "    </tr>\n",
       "    <tr>\n",
       "      <th>1</th>\n",
       "      <td>UID-A-2</td>\n",
       "      <td>Female</td>\n",
       "      <td>Business</td>\n",
       "      <td>Junior</td>\n",
       "      <td>Certain programs that protect websites from ha...</td>\n",
       "      <td>Different characters and numbers</td>\n",
       "      <td>Companies pay other companies to protect their...</td>\n",
       "      <td>1</td>\n",
       "      <td>0</td>\n",
       "      <td>0</td>\n",
       "      <td>0.173411</td>\n",
       "      <td>0.389092</td>\n",
       "      <td>0.107757</td>\n",
       "      <td>0.173407</td>\n",
       "      <td>-0.060382</td>\n",
       "      <td>0.389096</td>\n",
       "      <td>0.176357</td>\n",
       "      <td>0.107792</td>\n",
       "      <td>-0.040546</td>\n",
       "    </tr>\n",
       "    <tr>\n",
       "      <th>2</th>\n",
       "      <td>UID-A-3</td>\n",
       "      <td>Female</td>\n",
       "      <td>Business</td>\n",
       "      <td>Senior</td>\n",
       "      <td>to protect me from bad things such as fraud an...</td>\n",
       "      <td>capital and lower letters and many numbers.\\n</td>\n",
       "      <td>everything is private</td>\n",
       "      <td>1</td>\n",
       "      <td>0</td>\n",
       "      <td>0</td>\n",
       "      <td>0.168492</td>\n",
       "      <td>0.396580</td>\n",
       "      <td>0.091454</td>\n",
       "      <td>0.168485</td>\n",
       "      <td>-0.033793</td>\n",
       "      <td>0.396577</td>\n",
       "      <td>0.116475</td>\n",
       "      <td>0.091468</td>\n",
       "      <td>0.006161</td>\n",
       "    </tr>\n",
       "    <tr>\n",
       "      <th>3</th>\n",
       "      <td>UID-A-4</td>\n",
       "      <td>Male</td>\n",
       "      <td>Business</td>\n",
       "      <td>Sophomore</td>\n",
       "      <td>Cyber security is just secuirty and protection...</td>\n",
       "      <td>Both characters, numbers, special numbers and ...</td>\n",
       "      <td>Security is achieved through some type of encr...</td>\n",
       "      <td>1</td>\n",
       "      <td>1</td>\n",
       "      <td>1</td>\n",
       "      <td>0.279454</td>\n",
       "      <td>0.478717</td>\n",
       "      <td>0.198504</td>\n",
       "      <td>0.279456</td>\n",
       "      <td>-0.002025</td>\n",
       "      <td>0.478719</td>\n",
       "      <td>0.473946</td>\n",
       "      <td>0.198527</td>\n",
       "      <td>0.127060</td>\n",
       "    </tr>\n",
       "    <tr>\n",
       "      <th>4</th>\n",
       "      <td>UID-A-5</td>\n",
       "      <td>Female</td>\n",
       "      <td>Business</td>\n",
       "      <td>Sophomore</td>\n",
       "      <td>It is a form of security that protects individ...</td>\n",
       "      <td>A strong password consists of uppercase and lo...</td>\n",
       "      <td>A software that protects online consumers</td>\n",
       "      <td>1</td>\n",
       "      <td>0</td>\n",
       "      <td>0</td>\n",
       "      <td>0.287306</td>\n",
       "      <td>0.364646</td>\n",
       "      <td>0.115523</td>\n",
       "      <td>0.287311</td>\n",
       "      <td>-0.086706</td>\n",
       "      <td>0.364646</td>\n",
       "      <td>-0.162954</td>\n",
       "      <td>0.115499</td>\n",
       "      <td>0.000475</td>\n",
       "    </tr>\n",
       "  </tbody>\n",
       "</table>\n",
       "</div>"
      ],
      "text/plain": [
       "  UID-G-NR  Gender     Major      Class  \\\n",
       "0  UID-A-1    Male  Business     Senior   \n",
       "1  UID-A-2  Female  Business     Junior   \n",
       "2  UID-A-3  Female  Business     Senior   \n",
       "3  UID-A-4    Male  Business  Sophomore   \n",
       "4  UID-A-5  Female  Business  Sophomore   \n",
       "\n",
       "                                              Q1 Raw  \\\n",
       "0  the body of technologies, processes and practi...   \n",
       "1  Certain programs that protect websites from ha...   \n",
       "2  to protect me from bad things such as fraud an...   \n",
       "3  Cyber security is just secuirty and protection...   \n",
       "4  It is a form of security that protects individ...   \n",
       "\n",
       "                                              Q2 Raw  \\\n",
       "0                                  Long and precise    \n",
       "1                   Different characters and numbers   \n",
       "2      capital and lower letters and many numbers.\\n   \n",
       "3  Both characters, numbers, special numbers and ...   \n",
       "4  A strong password consists of uppercase and lo...   \n",
       "\n",
       "                                              Q3 Raw  cluter_q1  cluter_q2  \\\n",
       "0          Making sure you're making secure payments          1          0   \n",
       "1  Companies pay other companies to protect their...          1          0   \n",
       "2                             everything is private           1          0   \n",
       "3  Security is achieved through some type of encr...          1          1   \n",
       "4          A software that protects online consumers          1          0   \n",
       "\n",
       "   cluter_q3     svd_1     svd_2     svd_3   svd_1_1   svd_1_2   svd_2_1  \\\n",
       "0          0  0.259529  0.130182  0.188329  0.259521  0.032111  0.130176   \n",
       "1          0  0.173411  0.389092  0.107757  0.173407 -0.060382  0.389096   \n",
       "2          0  0.168492  0.396580  0.091454  0.168485 -0.033793  0.396577   \n",
       "3          1  0.279454  0.478717  0.198504  0.279456 -0.002025  0.478719   \n",
       "4          0  0.287306  0.364646  0.115523  0.287311 -0.086706  0.364646   \n",
       "\n",
       "    svd_2_2   svd_3_1   svd_3_2  \n",
       "0  0.042820  0.188346 -0.113996  \n",
       "1  0.176357  0.107792 -0.040546  \n",
       "2  0.116475  0.091468  0.006161  \n",
       "3  0.473946  0.198527  0.127060  \n",
       "4 -0.162954  0.115499  0.000475  "
      ]
     },
     "execution_count": 16,
     "metadata": {},
     "output_type": "execute_result"
    }
   ],
   "source": [
    "df.head()"
   ]
  },
  {
   "cell_type": "code",
   "execution_count": 17,
   "metadata": {
    "ExecuteTime": {
     "end_time": "2021-03-09T00:04:57.371187Z",
     "start_time": "2021-03-09T00:04:57.363509Z"
    }
   },
   "outputs": [],
   "source": [
    "# convert catigorical features into numercial features\n",
    "df[\"gender\"] = df[\"Gender\"].astype('category').cat.codes\n",
    "df[\"major\"] = df[\"Major\"].astype('category').cat.codes\n",
    "df[\"class\"] = df[\"Class\"].astype('category').cat.codes"
   ]
  },
  {
   "cell_type": "code",
   "execution_count": 18,
   "metadata": {
    "ExecuteTime": {
     "end_time": "2021-03-09T00:04:57.382076Z",
     "start_time": "2021-03-09T00:04:57.373966Z"
    }
   },
   "outputs": [],
   "source": [
    "# convert label category into numerical\n",
    "\n",
    "mask = df['UID-G-NR'].str.contains('A')\n",
    "# assign UID-G-NR contians 'A' as label '1', otherwise, label '0'\n",
    "df.loc[mask, 'label'] = 1\n",
    "df.loc[~mask, 'label'] = 0"
   ]
  },
  {
   "cell_type": "code",
   "execution_count": 19,
   "metadata": {
    "ExecuteTime": {
     "end_time": "2021-03-09T00:04:57.402532Z",
     "start_time": "2021-03-09T00:04:57.385962Z"
    },
    "scrolled": false
   },
   "outputs": [
    {
     "data": {
      "text/html": [
       "<div>\n",
       "<style scoped>\n",
       "    .dataframe tbody tr th:only-of-type {\n",
       "        vertical-align: middle;\n",
       "    }\n",
       "\n",
       "    .dataframe tbody tr th {\n",
       "        vertical-align: top;\n",
       "    }\n",
       "\n",
       "    .dataframe thead th {\n",
       "        text-align: right;\n",
       "    }\n",
       "</style>\n",
       "<table border=\"1\" class=\"dataframe\">\n",
       "  <thead>\n",
       "    <tr style=\"text-align: right;\">\n",
       "      <th></th>\n",
       "      <th>UID-G-NR</th>\n",
       "      <th>Gender</th>\n",
       "      <th>Major</th>\n",
       "      <th>Class</th>\n",
       "      <th>Q1 Raw</th>\n",
       "      <th>Q2 Raw</th>\n",
       "      <th>Q3 Raw</th>\n",
       "      <th>cluter_q1</th>\n",
       "      <th>cluter_q2</th>\n",
       "      <th>cluter_q3</th>\n",
       "      <th>...</th>\n",
       "      <th>svd_1_1</th>\n",
       "      <th>svd_1_2</th>\n",
       "      <th>svd_2_1</th>\n",
       "      <th>svd_2_2</th>\n",
       "      <th>svd_3_1</th>\n",
       "      <th>svd_3_2</th>\n",
       "      <th>gender</th>\n",
       "      <th>major</th>\n",
       "      <th>class</th>\n",
       "      <th>label</th>\n",
       "    </tr>\n",
       "  </thead>\n",
       "  <tbody>\n",
       "    <tr>\n",
       "      <th>0</th>\n",
       "      <td>UID-A-1</td>\n",
       "      <td>Male</td>\n",
       "      <td>Business</td>\n",
       "      <td>Senior</td>\n",
       "      <td>the body of technologies, processes and practi...</td>\n",
       "      <td>Long and precise</td>\n",
       "      <td>Making sure you're making secure payments</td>\n",
       "      <td>1</td>\n",
       "      <td>0</td>\n",
       "      <td>0</td>\n",
       "      <td>...</td>\n",
       "      <td>0.259521</td>\n",
       "      <td>0.032111</td>\n",
       "      <td>0.130176</td>\n",
       "      <td>0.042820</td>\n",
       "      <td>0.188346</td>\n",
       "      <td>-0.113996</td>\n",
       "      <td>1</td>\n",
       "      <td>0</td>\n",
       "      <td>2</td>\n",
       "      <td>1.0</td>\n",
       "    </tr>\n",
       "    <tr>\n",
       "      <th>1</th>\n",
       "      <td>UID-A-2</td>\n",
       "      <td>Female</td>\n",
       "      <td>Business</td>\n",
       "      <td>Junior</td>\n",
       "      <td>Certain programs that protect websites from ha...</td>\n",
       "      <td>Different characters and numbers</td>\n",
       "      <td>Companies pay other companies to protect their...</td>\n",
       "      <td>1</td>\n",
       "      <td>0</td>\n",
       "      <td>0</td>\n",
       "      <td>...</td>\n",
       "      <td>0.173407</td>\n",
       "      <td>-0.060382</td>\n",
       "      <td>0.389096</td>\n",
       "      <td>0.176357</td>\n",
       "      <td>0.107792</td>\n",
       "      <td>-0.040546</td>\n",
       "      <td>0</td>\n",
       "      <td>0</td>\n",
       "      <td>1</td>\n",
       "      <td>1.0</td>\n",
       "    </tr>\n",
       "    <tr>\n",
       "      <th>2</th>\n",
       "      <td>UID-A-3</td>\n",
       "      <td>Female</td>\n",
       "      <td>Business</td>\n",
       "      <td>Senior</td>\n",
       "      <td>to protect me from bad things such as fraud an...</td>\n",
       "      <td>capital and lower letters and many numbers.\\n</td>\n",
       "      <td>everything is private</td>\n",
       "      <td>1</td>\n",
       "      <td>0</td>\n",
       "      <td>0</td>\n",
       "      <td>...</td>\n",
       "      <td>0.168485</td>\n",
       "      <td>-0.033793</td>\n",
       "      <td>0.396577</td>\n",
       "      <td>0.116475</td>\n",
       "      <td>0.091468</td>\n",
       "      <td>0.006161</td>\n",
       "      <td>0</td>\n",
       "      <td>0</td>\n",
       "      <td>2</td>\n",
       "      <td>1.0</td>\n",
       "    </tr>\n",
       "    <tr>\n",
       "      <th>3</th>\n",
       "      <td>UID-A-4</td>\n",
       "      <td>Male</td>\n",
       "      <td>Business</td>\n",
       "      <td>Sophomore</td>\n",
       "      <td>Cyber security is just secuirty and protection...</td>\n",
       "      <td>Both characters, numbers, special numbers and ...</td>\n",
       "      <td>Security is achieved through some type of encr...</td>\n",
       "      <td>1</td>\n",
       "      <td>1</td>\n",
       "      <td>1</td>\n",
       "      <td>...</td>\n",
       "      <td>0.279456</td>\n",
       "      <td>-0.002025</td>\n",
       "      <td>0.478719</td>\n",
       "      <td>0.473946</td>\n",
       "      <td>0.198527</td>\n",
       "      <td>0.127060</td>\n",
       "      <td>1</td>\n",
       "      <td>0</td>\n",
       "      <td>3</td>\n",
       "      <td>1.0</td>\n",
       "    </tr>\n",
       "    <tr>\n",
       "      <th>4</th>\n",
       "      <td>UID-A-5</td>\n",
       "      <td>Female</td>\n",
       "      <td>Business</td>\n",
       "      <td>Sophomore</td>\n",
       "      <td>It is a form of security that protects individ...</td>\n",
       "      <td>A strong password consists of uppercase and lo...</td>\n",
       "      <td>A software that protects online consumers</td>\n",
       "      <td>1</td>\n",
       "      <td>0</td>\n",
       "      <td>0</td>\n",
       "      <td>...</td>\n",
       "      <td>0.287311</td>\n",
       "      <td>-0.086706</td>\n",
       "      <td>0.364646</td>\n",
       "      <td>-0.162954</td>\n",
       "      <td>0.115499</td>\n",
       "      <td>0.000475</td>\n",
       "      <td>0</td>\n",
       "      <td>0</td>\n",
       "      <td>3</td>\n",
       "      <td>1.0</td>\n",
       "    </tr>\n",
       "  </tbody>\n",
       "</table>\n",
       "<p>5 rows × 23 columns</p>\n",
       "</div>"
      ],
      "text/plain": [
       "  UID-G-NR  Gender     Major      Class  \\\n",
       "0  UID-A-1    Male  Business     Senior   \n",
       "1  UID-A-2  Female  Business     Junior   \n",
       "2  UID-A-3  Female  Business     Senior   \n",
       "3  UID-A-4    Male  Business  Sophomore   \n",
       "4  UID-A-5  Female  Business  Sophomore   \n",
       "\n",
       "                                              Q1 Raw  \\\n",
       "0  the body of technologies, processes and practi...   \n",
       "1  Certain programs that protect websites from ha...   \n",
       "2  to protect me from bad things such as fraud an...   \n",
       "3  Cyber security is just secuirty and protection...   \n",
       "4  It is a form of security that protects individ...   \n",
       "\n",
       "                                              Q2 Raw  \\\n",
       "0                                  Long and precise    \n",
       "1                   Different characters and numbers   \n",
       "2      capital and lower letters and many numbers.\\n   \n",
       "3  Both characters, numbers, special numbers and ...   \n",
       "4  A strong password consists of uppercase and lo...   \n",
       "\n",
       "                                              Q3 Raw  cluter_q1  cluter_q2  \\\n",
       "0          Making sure you're making secure payments          1          0   \n",
       "1  Companies pay other companies to protect their...          1          0   \n",
       "2                             everything is private           1          0   \n",
       "3  Security is achieved through some type of encr...          1          1   \n",
       "4          A software that protects online consumers          1          0   \n",
       "\n",
       "   cluter_q3  ...   svd_1_1   svd_1_2   svd_2_1   svd_2_2   svd_3_1   svd_3_2  \\\n",
       "0          0  ...  0.259521  0.032111  0.130176  0.042820  0.188346 -0.113996   \n",
       "1          0  ...  0.173407 -0.060382  0.389096  0.176357  0.107792 -0.040546   \n",
       "2          0  ...  0.168485 -0.033793  0.396577  0.116475  0.091468  0.006161   \n",
       "3          1  ...  0.279456 -0.002025  0.478719  0.473946  0.198527  0.127060   \n",
       "4          0  ...  0.287311 -0.086706  0.364646 -0.162954  0.115499  0.000475   \n",
       "\n",
       "   gender  major  class  label  \n",
       "0       1      0      2    1.0  \n",
       "1       0      0      1    1.0  \n",
       "2       0      0      2    1.0  \n",
       "3       1      0      3    1.0  \n",
       "4       0      0      3    1.0  \n",
       "\n",
       "[5 rows x 23 columns]"
      ]
     },
     "execution_count": 19,
     "metadata": {},
     "output_type": "execute_result"
    }
   ],
   "source": [
    "df.head()"
   ]
  },
  {
   "cell_type": "markdown",
   "metadata": {},
   "source": [
    "## Classify  only using K-means cluster number\n",
    "`cluter_q1, cluter_q2, cluter_q3`\n",
    "\n",
    "With help of clustering algorithms on 3 different questions, we can achieve about 0.68 accuracy. \n",
    "It's better than 0.5 guessing but not good enough for a classificaiton experiment."
   ]
  },
  {
   "cell_type": "code",
   "execution_count": 20,
   "metadata": {
    "ExecuteTime": {
     "end_time": "2021-03-09T00:04:57.410428Z",
     "start_time": "2021-03-09T00:04:57.405002Z"
    }
   },
   "outputs": [],
   "source": [
    "# select features\n",
    "X = df[['cluter_q1', 'cluter_q2', 'cluter_q3']].values\n",
    "y = df[['label']].values.ravel()"
   ]
  },
  {
   "cell_type": "code",
   "execution_count": 21,
   "metadata": {
    "ExecuteTime": {
     "end_time": "2021-03-09T00:04:57.428774Z",
     "start_time": "2021-03-09T00:04:57.412976Z"
    }
   },
   "outputs": [],
   "source": [
    "# call random forest classifier\n",
    "clf = RandomForestClassifier(n_estimators=10,\n",
    "                             random_state=42)\n",
    "clf.fit(X, y)\n",
    "y_pred = clf.predict(X)"
   ]
  },
  {
   "cell_type": "code",
   "execution_count": 22,
   "metadata": {
    "ExecuteTime": {
     "end_time": "2021-03-09T00:04:57.441224Z",
     "start_time": "2021-03-09T00:04:57.430735Z"
    }
   },
   "outputs": [
    {
     "name": "stdout",
     "output_type": "stream",
     "text": [
      "              precision    recall  f1-score   support\n",
      "\n",
      "         0.0       0.64      0.67      0.65        70\n",
      "         1.0       0.62      0.58      0.60        64\n",
      "\n",
      "    accuracy                           0.63       134\n",
      "   macro avg       0.63      0.62      0.62       134\n",
      "weighted avg       0.63      0.63      0.63       134\n",
      "\n"
     ]
    }
   ],
   "source": [
    "# print classification results\n",
    "print(classification_report(y, y_pred))"
   ]
  },
  {
   "cell_type": "markdown",
   "metadata": {},
   "source": [
    "### Test with other features"
   ]
  },
  {
   "cell_type": "code",
   "execution_count": 23,
   "metadata": {
    "ExecuteTime": {
     "end_time": "2021-03-09T00:04:57.449706Z",
     "start_time": "2021-03-09T00:04:57.444123Z"
    }
   },
   "outputs": [],
   "source": [
    "# change other combinations of features\n",
    "X = df[['gender',  'cluter_q1', 'cluter_q2', 'cluter_q3']].values\n",
    "\n",
    "y = df[['label']].values.ravel()"
   ]
  },
  {
   "cell_type": "code",
   "execution_count": 24,
   "metadata": {
    "ExecuteTime": {
     "end_time": "2021-03-09T00:04:57.471433Z",
     "start_time": "2021-03-09T00:04:57.451507Z"
    }
   },
   "outputs": [
    {
     "name": "stdout",
     "output_type": "stream",
     "text": [
      "              precision    recall  f1-score   support\n",
      "\n",
      "         0.0       0.78      0.89      0.83        70\n",
      "         1.0       0.85      0.72      0.78        64\n",
      "\n",
      "    accuracy                           0.81       134\n",
      "   macro avg       0.81      0.80      0.80       134\n",
      "weighted avg       0.81      0.81      0.80       134\n",
      "\n"
     ]
    }
   ],
   "source": [
    "clf = RandomForestClassifier(n_estimators=10,\n",
    "                             random_state=42)\n",
    "clf.fit(X, y)\n",
    "y_pred = clf.predict(X)\n",
    "\n",
    "\n",
    "print(classification_report(y, y_pred))"
   ]
  },
  {
   "cell_type": "markdown",
   "metadata": {},
   "source": [
    "### All Features"
   ]
  },
  {
   "cell_type": "code",
   "execution_count": 25,
   "metadata": {
    "ExecuteTime": {
     "end_time": "2021-03-09T00:04:57.479497Z",
     "start_time": "2021-03-09T00:04:57.473938Z"
    }
   },
   "outputs": [],
   "source": [
    "X = df[['gender', 'major', 'class', 'cluter_q1', 'cluter_q2', 'cluter_q3']].values\n",
    "\n",
    "y = df[['label']].values.ravel()"
   ]
  },
  {
   "cell_type": "code",
   "execution_count": 26,
   "metadata": {
    "ExecuteTime": {
     "end_time": "2021-03-09T00:04:57.501444Z",
     "start_time": "2021-03-09T00:04:57.482019Z"
    }
   },
   "outputs": [
    {
     "name": "stdout",
     "output_type": "stream",
     "text": [
      "              precision    recall  f1-score   support\n",
      "\n",
      "         0.0       0.97      0.97      0.97        70\n",
      "         1.0       0.97      0.97      0.97        64\n",
      "\n",
      "    accuracy                           0.97       134\n",
      "   macro avg       0.97      0.97      0.97       134\n",
      "weighted avg       0.97      0.97      0.97       134\n",
      "\n"
     ]
    }
   ],
   "source": [
    "clf = RandomForestClassifier(n_estimators=10,\n",
    "                             random_state=42)\n",
    "clf.fit(X, y)\n",
    "y_pred = clf.predict(X)\n",
    "\n",
    "\n",
    "print(classification_report(y, y_pred))"
   ]
  },
  {
   "cell_type": "markdown",
   "metadata": {},
   "source": [
    "### Notice Issue\n",
    "\n",
    "One of the issue for this classification is that `major` attribute **contributes too much** on the classfication performance.\n",
    "Only one feature can perform classification with `0.89` accuracy."
   ]
  },
  {
   "cell_type": "code",
   "execution_count": 27,
   "metadata": {
    "ExecuteTime": {
     "end_time": "2021-03-09T00:04:57.507929Z",
     "start_time": "2021-03-09T00:04:57.502629Z"
    }
   },
   "outputs": [],
   "source": [
    "X = df[['major',]].values\n",
    "\n",
    "y = df[['label']].values.ravel()"
   ]
  },
  {
   "cell_type": "code",
   "execution_count": 28,
   "metadata": {
    "ExecuteTime": {
     "end_time": "2021-03-09T00:04:57.528176Z",
     "start_time": "2021-03-09T00:04:57.510722Z"
    }
   },
   "outputs": [
    {
     "name": "stdout",
     "output_type": "stream",
     "text": [
      "              precision    recall  f1-score   support\n",
      "\n",
      "         0.0       0.97      0.81      0.88        70\n",
      "         1.0       0.83      0.97      0.89        64\n",
      "\n",
      "    accuracy                           0.89       134\n",
      "   macro avg       0.90      0.89      0.89       134\n",
      "weighted avg       0.90      0.89      0.89       134\n",
      "\n"
     ]
    }
   ],
   "source": [
    "clf = RandomForestClassifier(n_estimators=10,\n",
    "                             random_state=42)\n",
    "clf.fit(X, y)\n",
    "y_pred = clf.predict(X)\n",
    "\n",
    "\n",
    "print(classification_report(y, y_pred))"
   ]
  },
  {
   "cell_type": "markdown",
   "metadata": {},
   "source": [
    "## Use SVD values as Features"
   ]
  },
  {
   "cell_type": "markdown",
   "metadata": {},
   "source": [
    "### Use SVD results when `n_component = 1`"
   ]
  },
  {
   "cell_type": "code",
   "execution_count": 29,
   "metadata": {
    "ExecuteTime": {
     "end_time": "2021-03-09T00:04:57.548116Z",
     "start_time": "2021-03-09T00:04:57.529473Z"
    }
   },
   "outputs": [
    {
     "name": "stdout",
     "output_type": "stream",
     "text": [
      "              precision    recall  f1-score   support\n",
      "\n",
      "         0.0       0.93      0.99      0.96        70\n",
      "         1.0       0.98      0.92      0.95        64\n",
      "\n",
      "    accuracy                           0.96       134\n",
      "   macro avg       0.96      0.95      0.95       134\n",
      "weighted avg       0.96      0.96      0.96       134\n",
      "\n"
     ]
    }
   ],
   "source": [
    "# select features\n",
    "X = df[['svd_1', 'svd_2', 'svd_3']].values\n",
    "y = df[['label']].values.ravel()\n",
    "\n",
    "# call random forest classifier\n",
    "clf = RandomForestClassifier(n_estimators=10,\n",
    "                             random_state=42)\n",
    "clf.fit(X, y)\n",
    "y_pred = clf.predict(X)\n",
    "\n",
    "# print classification results\n",
    "print(classification_report(y, y_pred))"
   ]
  },
  {
   "cell_type": "markdown",
   "metadata": {},
   "source": [
    "**Actually very great performance with 0.96 accuracy!**\n",
    "\n",
    "LSA (SVD) has much better perofmance than K-means.\n",
    "\n",
    "Let's try SVD with `n_component = 2`"
   ]
  },
  {
   "cell_type": "markdown",
   "metadata": {},
   "source": [
    "### Use SVD results when `n_component = 2`"
   ]
  },
  {
   "cell_type": "code",
   "execution_count": 30,
   "metadata": {
    "ExecuteTime": {
     "end_time": "2021-03-09T00:04:57.569717Z",
     "start_time": "2021-03-09T00:04:57.549362Z"
    }
   },
   "outputs": [
    {
     "name": "stdout",
     "output_type": "stream",
     "text": [
      "              precision    recall  f1-score   support\n",
      "\n",
      "         0.0       0.96      0.99      0.97        70\n",
      "         1.0       0.98      0.95      0.97        64\n",
      "\n",
      "    accuracy                           0.97       134\n",
      "   macro avg       0.97      0.97      0.97       134\n",
      "weighted avg       0.97      0.97      0.97       134\n",
      "\n"
     ]
    }
   ],
   "source": [
    "# select features\n",
    "X = df[['svd_1_1', 'svd_1_2', 'svd_2_1', 'svd_2_2', 'svd_3_1', 'svd_3_2']].values\n",
    "y = df[['label']].values.ravel()\n",
    "\n",
    "# call random forest classifier\n",
    "clf = RandomForestClassifier(n_estimators=10,\n",
    "                             random_state=42)\n",
    "clf.fit(X, y)\n",
    "y_pred = clf.predict(X)\n",
    "\n",
    "# print classification results\n",
    "print(classification_report(y, y_pred))"
   ]
  },
  {
   "cell_type": "markdown",
   "metadata": {},
   "source": [
    "Only increases 1 percent, seems that n_component = 1 is fairly enough to cluster our data.\n",
    "\n",
    "Nice!"
   ]
  },
  {
   "cell_type": "markdown",
   "metadata": {},
   "source": [
    "## Others"
   ]
  },
  {
   "cell_type": "markdown",
   "metadata": {},
   "source": [
    "We can also run some regression analysis, but remember to convert categorical features into **numerical dumpy varaibles**. Numerical encoder is not enought.\n",
    "\n",
    "Also, more analysis are needed.\n",
    "\n",
    "For example, change `K` values in **K-means**, or adding more NLP models to anlaysis the content & topics, etc.\n",
    "\n",
    "Or change `n_component` values or other parameters in SVD model"
   ]
  },
  {
   "cell_type": "code",
   "execution_count": null,
   "metadata": {},
   "outputs": [],
   "source": []
  }
 ],
 "metadata": {
  "kernelspec": {
   "display_name": "Python 3",
   "language": "python",
   "name": "python3"
  },
  "language_info": {
   "codemirror_mode": {
    "name": "ipython",
    "version": 3
   },
   "file_extension": ".py",
   "mimetype": "text/x-python",
   "name": "python",
   "nbconvert_exporter": "python",
   "pygments_lexer": "ipython3",
   "version": "3.6.8"
  },
  "toc": {
   "base_numbering": 1,
   "nav_menu": {},
   "number_sections": true,
   "sideBar": true,
   "skip_h1_title": false,
   "title_cell": "Table of Contents",
   "title_sidebar": "Contents",
   "toc_cell": false,
   "toc_position": {},
   "toc_section_display": true,
   "toc_window_display": false
  }
 },
 "nbformat": 4,
 "nbformat_minor": 4
}
