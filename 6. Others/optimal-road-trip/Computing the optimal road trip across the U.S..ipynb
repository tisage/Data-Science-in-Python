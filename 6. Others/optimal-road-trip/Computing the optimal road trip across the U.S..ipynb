{
 "cells": [
  {
   "cell_type": "markdown",
   "metadata": {},
   "source": [
    "# Computing the optimal road trip across the U.S."
   ]
  },
  {
   "cell_type": "markdown",
   "metadata": {},
   "source": [
    "This notebook provides the methodology and code used in the blog post, [Computing the optimal road trip across the U.S.](http://www.randalolson.com/2015/03/08/computing-the-optimal-road-trip-across-the-u-s/)\n",
    "\n",
    "### Notebook by [Randal S. Olson](http://www.randalolson.com)\n",
    "\n",
    "Please see the [repository README file](https://github.com/rhiever/Data-Analysis-and-Machine-Learning-Projects#license) for the licenses and usage terms for the instructional material and code in this notebook. In general, I have licensed this material so that it is as widely useable and shareable as possible.\n",
    "\n",
    "The code in this notebook is also available as a single Python script [here](OptimalRoadTripHtmlSaveAndDisplay.py) courtesy of [Andrew Liesinger](https://github.com/AndrewLiesinger)."
   ]
  },
  {
   "cell_type": "markdown",
   "metadata": {},
   "source": [
    "### Required Python libraries"
   ]
  },
  {
   "cell_type": "markdown",
   "metadata": {},
   "source": [
    "If you don't have Python on your computer, you can use the [Anaconda Python distribution](http://continuum.io/downloads) to install most of the Python packages you need. Anaconda provides a simple double-click installer for your convenience.\n",
    "\n",
    "This code uses base Python libraries except for `googlemaps` and `pandas` packages. You can install these packages using `pip` by typing the following commands into your command line:\n",
    "\n",
    "> pip install pandas\n",
    "\n",
    "> pip install googlemaps\n",
    "\n",
    "If you're on a Mac, Linux, or Unix machine, you may need to type `sudo` before the command to install the package with administrator privileges."
   ]
  },
  {
   "cell_type": "markdown",
   "metadata": {},
   "source": [
    "### Construct a list of road trip waypoints"
   ]
  },
  {
   "cell_type": "markdown",
   "metadata": {},
   "source": [
    "The first step is to decide where you want to stop on your road trip.\n",
    "\n",
    "Make sure you look all of the locations up on [Google Maps](http://maps.google.com) first so you have the correct address, city, state, etc. If the text you use to look up the location doesn't work on Google Maps, then it won't work here either.\n",
    "\n",
    "Add all of your waypoints to the list below. Make sure they're formatted the same way as in the example below.\n",
    "\n",
    "*Technical note: Due to daily usage limitations of the Google Maps API, you can only have a maximum of 70 waypoints. You will have to pay Google for an increased API limit if you want to add more waypoints.*"
   ]
  },
  {
   "cell_type": "code",
   "execution_count": 2,
   "metadata": {
    "collapsed": false
   },
   "outputs": [],
   "source": [
    "all_waypoints = [\"USS Alabama, Battleship Parkway, Mobile, AL\",\n",
    "                 \"Grand Canyon National Park, Arizona\",\n",
    "                 \"Toltec Mounds, Scott, AR\",\n",
    "                 \"San Andreas Fault, San Benito County, CA\",\n",
    "                 \"Cable Car Museum, 94108, 1201 Mason St, San Francisco, CA 94108\",\n",
    "                 \"Pikes Peak, Colorado\",\n",
    "                 \"The Mark Twain House & Museum, Farmington Avenue, Hartford, CT\",\n",
    "                 \"New Castle Historic District, Delaware\",\n",
    "                 \"White House, Pennsylvania Avenue Northwest, Washington, DC\",\n",
    "                 \"Cape Canaveral, FL\",\n",
    "                 \"Okefenokee Swamp Park, Okefenokee Swamp Park Road, Waycross, GA\",\n",
    "                 \"Craters of the Moon National Monument & Preserve, Arco, ID\",\n",
    "                 \"Lincoln Home National Historic Site Visitor Center, 426 South 7th Street, Springfield, IL\",\n",
    "                 \"West Baden Springs Hotel, West Baden Avenue, West Baden Springs, IN\",\n",
    "                 \"Terrace Hill, Grand Avenue, Des Moines, IA\",\n",
    "                 \"C. W. Parker Carousel Museum, South Esplanade Street, Leavenworth, KS\",\n",
    "                 \"Mammoth Cave National Park, Mammoth Cave Pkwy, Mammoth Cave, KY\",\n",
    "                 \"French Quarter, New Orleans, LA\",\n",
    "                 \"Acadia National Park, Maine\",\n",
    "                 \"Maryland State House, 100 State Cir, Annapolis, MD 21401\",\n",
    "                 \"USS Constitution, Boston, MA\",\n",
    "                 \"Olympia Entertainment, Woodward Avenue, Detroit, MI\",\n",
    "                 \"Fort Snelling, Tower Avenue, Saint Paul, MN\",\n",
    "                 \"Vicksburg National Military Park, Clay Street, Vicksburg, MS\",\n",
    "                 \"Gateway Arch, Washington Avenue, St Louis, MO\",\n",
    "                 \"Glacier National Park, West Glacier, MT\",\n",
    "                 \"Ashfall Fossil Bed, Royal, NE\",\n",
    "                 \"Hoover Dam, NV\",\n",
    "                 \"Omni Mount Washington Resort, Mount Washington Hotel Road, Bretton Woods, NH\",\n",
    "                 \"Congress Hall, Congress Place, Cape May, NJ 08204\",\n",
    "                 \"Carlsbad Caverns National Park, Carlsbad, NM\",\n",
    "                 \"Statue of Liberty, Liberty Island, NYC, NY\",\n",
    "                 \"Wright Brothers National Memorial Visitor Center, Manteo, NC\",\n",
    "                 \"Fort Union Trading Post National Historic Site, Williston, North Dakota 1804, ND\",\n",
    "                 \"Spring Grove Cemetery, Spring Grove Avenue, Cincinnati, OH\",\n",
    "                 \"Chickasaw National Recreation Area, 1008 W 2nd St, Sulphur, OK 73086\",\n",
    "                 \"Columbia River Gorge National Scenic Area, Oregon\",\n",
    "                 \"Liberty Bell, 6th Street, Philadelphia, PA\",\n",
    "                 \"The Breakers, Ochre Point Avenue, Newport, RI\",\n",
    "                 \"Fort Sumter National Monument, Sullivan's Island, SC\",\n",
    "                 \"Mount Rushmore National Memorial, South Dakota 244, Keystone, SD\",\n",
    "                 \"Graceland, Elvis Presley Boulevard, Memphis, TN\",\n",
    "                 \"The Alamo, Alamo Plaza, San Antonio, TX\",\n",
    "                 \"Bryce Canyon National Park, Hwy 63, Bryce, UT\",\n",
    "                 \"Shelburne Farms, Harbor Road, Shelburne, VT\",\n",
    "                 \"Mount Vernon, Fairfax County, Virginia\",\n",
    "                 \"Hanford Site, Benton County, WA\",\n",
    "                 \"Lost World Caverns, Lewisburg, WV\",\n",
    "                 \"Taliesin, County Road C, Spring Green, Wisconsin\",\n",
    "                 \"Yellowstone National Park, WY 82190\"]"
   ]
  },
  {
   "cell_type": "markdown",
   "metadata": {},
   "source": [
    "Next you'll have to register this script with the Google Maps API so they know who's hitting their servers with hundreds of Google Maps routing requests.\n",
    "\n",
    "1) Enable the Google Maps Distance Matrix API on your Google account. Google explains how to do that [here](https://github.com/googlemaps/google-maps-services-python#api-keys).\n",
    "\n",
    "2) Copy and paste the API key they had you create into the code below."
   ]
  },
  {
   "cell_type": "code",
   "execution_count": 3,
   "metadata": {
    "collapsed": false
   },
   "outputs": [],
   "source": [
    "import googlemaps\n",
    "\n",
    "gmaps = googlemaps.Client(key=\"PASTE YOUR API KEY HERE\")"
   ]
  },
  {
   "cell_type": "markdown",
   "metadata": {},
   "source": [
    "Now we're going to query the Google Maps API for the shortest route between all of the waypoints.\n",
    "\n",
    "This is equivalent to doing Google Maps directions lookups on the Google Maps site, except now we're performing hundreds of lookups automatically using code.\n",
    "\n",
    "If you get an error on this part, that most likely means one of the waypoints you entered couldn't be found on Google Maps. Another possible reason for an error here is if it's not possible to drive between the points, e.g., finding the driving directions between Hawaii and Florida will return an error until we invent flying cars."
   ]
  },
  {
   "cell_type": "markdown",
   "metadata": {},
   "source": [
    "### Gather the distance traveled on the shortest route between all waypoints"
   ]
  },
  {
   "cell_type": "code",
   "execution_count": 6,
   "metadata": {
    "collapsed": false
   },
   "outputs": [],
   "source": [
    "from itertools import combinations\n",
    "\n",
    "waypoint_distances = {}\n",
    "waypoint_durations = {}\n",
    "\n",
    "for (waypoint1, waypoint2) in combinations(all_waypoints, 2):\n",
    "    try:\n",
    "        route = gmaps.distance_matrix(origins=[waypoint1],\n",
    "                                      destinations=[waypoint2],\n",
    "                                      mode=\"driving\", # Change this to \"walking\" for walking directions,\n",
    "                                                      # \"bicycling\" for biking directions, etc.\n",
    "                                      language=\"English\",\n",
    "                                      units=\"metric\")\n",
    "\n",
    "        # \"distance\" is in meters\n",
    "        distance = route[\"rows\"][0][\"elements\"][0][\"distance\"][\"value\"]\n",
    "\n",
    "        # \"duration\" is in seconds\n",
    "        duration = route[\"rows\"][0][\"elements\"][0][\"duration\"][\"value\"]\n",
    "\n",
    "        waypoint_distances[frozenset([waypoint1, waypoint2])] = distance\n",
    "        waypoint_durations[frozenset([waypoint1, waypoint2])] = duration\n",
    "    \n",
    "    except Exception as e:\n",
    "        print(\"Error with finding the route between %s and %s.\" % (waypoint1, waypoint2))"
   ]
  },
  {
   "cell_type": "markdown",
   "metadata": {},
   "source": [
    "Now that we have the routes between all of our waypoints, let's save them to a text file so we don't have to bother Google about them again."
   ]
  },
  {
   "cell_type": "code",
   "execution_count": 7,
   "metadata": {
    "collapsed": false
   },
   "outputs": [],
   "source": [
    "with open(\"my-waypoints-dist-dur.tsv\", \"w\") as out_file:\n",
    "    out_file.write(\"\\t\".join([\"waypoint1\",\n",
    "                              \"waypoint2\",\n",
    "                              \"distance_m\",\n",
    "                              \"duration_s\"]))\n",
    "    \n",
    "    for (waypoint1, waypoint2) in waypoint_distances.keys():\n",
    "        out_file.write(\"\\n\" +\n",
    "                       \"\\t\".join([waypoint1,\n",
    "                                  waypoint2,\n",
    "                                  str(waypoint_distances[frozenset([waypoint1, waypoint2])]),\n",
    "                                  str(waypoint_durations[frozenset([waypoint1, waypoint2])])]))"
   ]
  },
  {
   "cell_type": "markdown",
   "metadata": {},
   "source": [
    "### Use a genetic algorithm to optimize the order to visit the waypoints in"
   ]
  },
  {
   "cell_type": "markdown",
   "metadata": {},
   "source": [
    "Instead of exhaustively looking at every possible solution, genetic algorithms start with a handful of random solutions and continually tinkers with these solutions — always trying something slightly different from the current solutions and keeping the best ones — until they can’t find a better solution any more.\n",
    "\n",
    "Below, all you need to do is make sure that the file name above matches the file name below (both currently `my-waypoints-dist-dur.tsv`) and run the code. The code will read in your route information and use a genetic algorithm to discover an optimized driving route."
   ]
  },
  {
   "cell_type": "code",
   "execution_count": null,
   "metadata": {
    "collapsed": false
   },
   "outputs": [],
   "source": [
    "import pandas as pd\n",
    "import numpy as np\n",
    "\n",
    "waypoint_distances = {}\n",
    "waypoint_durations = {}\n",
    "all_waypoints = set()\n",
    "\n",
    "waypoint_data = pd.read_csv(\"my-waypoints-dist-dur.tsv\", sep=\"\\t\")\n",
    "\n",
    "for i, row in waypoint_data.iterrows():\n",
    "    waypoint_distances[frozenset([row.waypoint1, row.waypoint2])] = row.distance_m\n",
    "    waypoint_durations[frozenset([row.waypoint1, row.waypoint2])] = row.duration_s\n",
    "    all_waypoints.update([row.waypoint1, row.waypoint2])"
   ]
  },
  {
   "cell_type": "code",
   "execution_count": 15,
   "metadata": {
    "collapsed": false
   },
   "outputs": [],
   "source": [
    "import random\n",
    "\n",
    "def compute_fitness(solution):\n",
    "    \"\"\"\n",
    "        This function returns the total distance traveled on the current road trip.\n",
    "        \n",
    "        The genetic algorithm will favor road trips that have shorter\n",
    "        total distances traveled.\n",
    "    \"\"\"\n",
    "    \n",
    "    solution_fitness = 0.0\n",
    "    \n",
    "    for index in range(len(solution)):\n",
    "        waypoint1 = solution[index - 1]\n",
    "        waypoint2 = solution[index]\n",
    "        solution_fitness += waypoint_distances[frozenset([waypoint1, waypoint2])]\n",
    "        \n",
    "    return solution_fitness\n",
    "\n",
    "def generate_random_agent():\n",
    "    \"\"\"\n",
    "        Creates a random road trip from the waypoints.\n",
    "    \"\"\"\n",
    "    \n",
    "    new_random_agent = list(all_waypoints)\n",
    "    random.shuffle(new_random_agent)\n",
    "    return tuple(new_random_agent)\n",
    "\n",
    "def mutate_agent(agent_genome, max_mutations=3):\n",
    "    \"\"\"\n",
    "        Applies 1 - `max_mutations` point mutations to the given road trip.\n",
    "        \n",
    "        A point mutation swaps the order of two waypoints in the road trip.\n",
    "    \"\"\"\n",
    "    \n",
    "    agent_genome = list(agent_genome)\n",
    "    num_mutations = random.randint(1, max_mutations)\n",
    "    \n",
    "    for mutation in range(num_mutations):\n",
    "        swap_index1 = random.randint(0, len(agent_genome) - 1)\n",
    "        swap_index2 = swap_index1\n",
    "\n",
    "        while swap_index1 == swap_index2:\n",
    "            swap_index2 = random.randint(0, len(agent_genome) - 1)\n",
    "\n",
    "        agent_genome[swap_index1], agent_genome[swap_index2] = agent_genome[swap_index2], agent_genome[swap_index1]\n",
    "            \n",
    "    return tuple(agent_genome)\n",
    "\n",
    "def shuffle_mutation(agent_genome):\n",
    "    \"\"\"\n",
    "        Applies a single shuffle mutation to the given road trip.\n",
    "        \n",
    "        A shuffle mutation takes a random sub-section of the road trip\n",
    "        and moves it to another location in the road trip.\n",
    "    \"\"\"\n",
    "    \n",
    "    agent_genome = list(agent_genome)\n",
    "    \n",
    "    start_index = random.randint(0, len(agent_genome) - 1)\n",
    "    length = random.randint(2, 20)\n",
    "    \n",
    "    genome_subset = agent_genome[start_index:start_index + length]\n",
    "    agent_genome = agent_genome[:start_index] + agent_genome[start_index + length:]\n",
    "    \n",
    "    insert_index = random.randint(0, len(agent_genome) + len(genome_subset) - 1)\n",
    "    agent_genome = agent_genome[:insert_index] + genome_subset + agent_genome[insert_index:]\n",
    "    \n",
    "    return tuple(agent_genome)\n",
    "\n",
    "def generate_random_population(pop_size):\n",
    "    \"\"\"\n",
    "        Generates a list with `pop_size` number of random road trips.\n",
    "    \"\"\"\n",
    "    \n",
    "    random_population = []\n",
    "    for agent in range(pop_size):\n",
    "        random_population.append(generate_random_agent())\n",
    "    return random_population\n",
    "    \n",
    "def run_genetic_algorithm(generations=5000, population_size=100):\n",
    "    \"\"\"\n",
    "        The core of the Genetic Algorithm.\n",
    "        \n",
    "        `generations` and `population_size` must be a multiple of 10.\n",
    "    \"\"\"\n",
    "    \n",
    "    population_subset_size = int(population_size / 10.)\n",
    "    generations_10pct = int(generations / 10.)\n",
    "    \n",
    "    # Create a random population of `population_size` number of solutions.\n",
    "    population = generate_random_population(population_size)\n",
    "\n",
    "    # For `generations` number of repetitions...\n",
    "    for generation in range(generations):\n",
    "        \n",
    "        # Compute the fitness of the entire current population\n",
    "        population_fitness = {}\n",
    "\n",
    "        for agent_genome in population:\n",
    "            if agent_genome in population_fitness:\n",
    "                continue\n",
    "\n",
    "            population_fitness[agent_genome] = compute_fitness(agent_genome)\n",
    "\n",
    "        # Take the top 10% shortest road trips and produce offspring each from them\n",
    "        new_population = []\n",
    "        for rank, agent_genome in enumerate(sorted(population_fitness,\n",
    "                                                   key=population_fitness.get)[:population_subset_size]):\n",
    "            \n",
    "            if (generation % generations_10pct == 0 or generation == generations - 1) and rank == 0:\n",
    "                print(\"Generation %d best: %d | Unique genomes: %d\" % (generation,\n",
    "                                                                       population_fitness[agent_genome],\n",
    "                                                                       len(population_fitness)))\n",
    "                print(agent_genome)\n",
    "                print(\"\")\n",
    "\n",
    "            # Create 1 exact copy of each of the top road trips\n",
    "            new_population.append(agent_genome)\n",
    "\n",
    "            # Create 2 offspring with 1-3 point mutations\n",
    "            for offspring in range(2):\n",
    "                new_population.append(mutate_agent(agent_genome, 3))\n",
    "                \n",
    "            # Create 7 offspring with a single shuffle mutation\n",
    "            for offspring in range(7):\n",
    "                new_population.append(shuffle_mutation(agent_genome))\n",
    "\n",
    "        # Replace the old population with the new population of offspring \n",
    "        for i in range(len(population))[::-1]:\n",
    "            del population[i]\n",
    "\n",
    "        population = new_population"
   ]
  },
  {
   "cell_type": "markdown",
   "metadata": {},
   "source": [
    "Try running the genetic algorithm a few times to see the different solutions it comes up with. It should take about a minute to finish running."
   ]
  },
  {
   "cell_type": "code",
   "execution_count": 18,
   "metadata": {
    "collapsed": false
   },
   "outputs": [
    {
     "name": "stdout",
     "output_type": "stream",
     "text": [
      "Generation 0 best: 90432537 | Unique genomes: 100\n",
      "('Mount Rushmore National Memorial, South Dakota 244, Keystone, SD', 'Olympia Entertainment, Woodward Avenue, Detroit, MI', 'Terrace Hill, Grand Avenue, Des Moines, IA', 'Statue of Liberty, Liberty Island, NYC, NY', 'Maryland State House, 100 State Cir, Annapolis, MD 21401', 'Shelburne Farms, Harbor Road, Shelburne, VT', 'Fort Union Trading Post National Historic Site, Williston, North Dakota 1804, ND', 'Gateway Arch, Washington Avenue, St Louis, MO', 'USS Alabama, Battleship Parkway, Mobile, AL', \"Fort Sumter National Monument, Sullivan's Island, SC\", 'Glacier National Park, West Glacier, MT', 'The Alamo, Alamo Plaza, San Antonio, TX', 'Hanford Site, Benton County, WA', 'Columbia River Gorge National Scenic Area, Oregon', 'White House, Pennsylvania Avenue Northwest, Washington, DC', 'Mammoth Cave National Park, Mammoth Cave Pkwy, Mammoth Cave, KY', 'Mount Vernon, Fairfax County, Virginia', 'Lost World Caverns, Lewisburg, WV', 'Graceland, Elvis Presley Boulevard, Memphis, TN', 'Taliesin, County Road C, Spring Green, Wisconsin', 'Wright Brothers National Memorial Visitor Center, Manteo, NC', 'The Breakers, Ochre Point Avenue, Newport, RI', 'Hoover Dam, NV', 'The Mark Twain House & Museum, Farmington Avenue, Hartford, CT', 'New Castle Historic District, Delaware', 'USS Constitution, Boston, MA', 'West Baden Springs Hotel, West Baden Avenue, West Baden Springs, IN', 'Fort Snelling, Tower Avenue, Saint Paul, MN', 'Chickasaw National Recreation Area, 1008 W 2nd St, Sulphur, OK 73086', 'Vicksburg National Military Park, Clay Street, Vicksburg, MS', 'Acadia National Park, Maine', 'Bryce Canyon National Park, Hwy 63, Bryce, UT', 'San Andreas Fault, San Benito County, CA', 'Ashfall Fossil Bed, Royal, NE', 'French Quarter, New Orleans, LA', 'C. W. Parker Carousel Museum, South Esplanade Street, Leavenworth, KS', 'Liberty Bell, 6th Street, Philadelphia, PA', 'Omni Mount Washington Resort, Mount Washington Hotel Road, Bretton Woods, NH', 'Carlsbad Caverns National Park, Carlsbad, NM', 'Pikes Peak, Colorado', 'Toltec Mounds, Scott, AR', 'Grand Canyon National Park, Arizona', 'Cable Car Museum, 94108, 1201 Mason St, San Francisco, CA 94108', 'Yellowstone National Park, WY 82190', 'Cape Canaveral, FL', 'Congress Hall, Congress Place, Cape May, NJ 08204', 'Okefenokee Swamp Park, Okefenokee Swamp Park Road, Waycross, GA', 'Spring Grove Cemetery, Spring Grove Avenue, Cincinnati, OH', 'Lincoln Home National Historic Site Visitor Center, 426 South 7th Street, Springfield, IL', 'Craters of the Moon National Monument & Preserve, Arco, ID')\n",
      "\n",
      "Generation 1000 best: 22613362 | Unique genomes: 95\n",
      "('Terrace Hill, Grand Avenue, Des Moines, IA', 'C. W. Parker Carousel Museum, South Esplanade Street, Leavenworth, KS', 'Ashfall Fossil Bed, Royal, NE', 'Fort Union Trading Post National Historic Site, Williston, North Dakota 1804, ND', 'Mount Rushmore National Memorial, South Dakota 244, Keystone, SD', 'Yellowstone National Park, WY 82190', 'Craters of the Moon National Monument & Preserve, Arco, ID', 'Glacier National Park, West Glacier, MT', 'Hanford Site, Benton County, WA', 'Columbia River Gorge National Scenic Area, Oregon', 'Cable Car Museum, 94108, 1201 Mason St, San Francisco, CA 94108', 'San Andreas Fault, San Benito County, CA', 'Hoover Dam, NV', 'Grand Canyon National Park, Arizona', 'Bryce Canyon National Park, Hwy 63, Bryce, UT', 'Pikes Peak, Colorado', 'Carlsbad Caverns National Park, Carlsbad, NM', 'The Alamo, Alamo Plaza, San Antonio, TX', 'Chickasaw National Recreation Area, 1008 W 2nd St, Sulphur, OK 73086', 'Toltec Mounds, Scott, AR', 'Graceland, Elvis Presley Boulevard, Memphis, TN', 'Vicksburg National Military Park, Clay Street, Vicksburg, MS', 'French Quarter, New Orleans, LA', 'USS Alabama, Battleship Parkway, Mobile, AL', 'Cape Canaveral, FL', 'Okefenokee Swamp Park, Okefenokee Swamp Park Road, Waycross, GA', \"Fort Sumter National Monument, Sullivan's Island, SC\", 'Wright Brothers National Memorial Visitor Center, Manteo, NC', 'Congress Hall, Congress Place, Cape May, NJ 08204', 'Statue of Liberty, Liberty Island, NYC, NY', 'Shelburne Farms, Harbor Road, Shelburne, VT', 'Omni Mount Washington Resort, Mount Washington Hotel Road, Bretton Woods, NH', 'Acadia National Park, Maine', 'USS Constitution, Boston, MA', 'The Breakers, Ochre Point Avenue, Newport, RI', 'The Mark Twain House & Museum, Farmington Avenue, Hartford, CT', 'Liberty Bell, 6th Street, Philadelphia, PA', 'New Castle Historic District, Delaware', 'Maryland State House, 100 State Cir, Annapolis, MD 21401', 'White House, Pennsylvania Avenue Northwest, Washington, DC', 'Mount Vernon, Fairfax County, Virginia', 'Lost World Caverns, Lewisburg, WV', 'Olympia Entertainment, Woodward Avenue, Detroit, MI', 'Spring Grove Cemetery, Spring Grove Avenue, Cincinnati, OH', 'Mammoth Cave National Park, Mammoth Cave Pkwy, Mammoth Cave, KY', 'West Baden Springs Hotel, West Baden Avenue, West Baden Springs, IN', 'Gateway Arch, Washington Avenue, St Louis, MO', 'Lincoln Home National Historic Site Visitor Center, 426 South 7th Street, Springfield, IL', 'Taliesin, County Road C, Spring Green, Wisconsin', 'Fort Snelling, Tower Avenue, Saint Paul, MN')\n",
      "\n",
      "Generation 2000 best: 22324940 | Unique genomes: 98\n",
      "('Graceland, Elvis Presley Boulevard, Memphis, TN', 'Vicksburg National Military Park, Clay Street, Vicksburg, MS', 'French Quarter, New Orleans, LA', 'USS Alabama, Battleship Parkway, Mobile, AL', 'Cape Canaveral, FL', 'Okefenokee Swamp Park, Okefenokee Swamp Park Road, Waycross, GA', \"Fort Sumter National Monument, Sullivan's Island, SC\", 'Wright Brothers National Memorial Visitor Center, Manteo, NC', 'Congress Hall, Congress Place, Cape May, NJ 08204', 'Shelburne Farms, Harbor Road, Shelburne, VT', 'Omni Mount Washington Resort, Mount Washington Hotel Road, Bretton Woods, NH', 'Acadia National Park, Maine', 'USS Constitution, Boston, MA', 'The Breakers, Ochre Point Avenue, Newport, RI', 'The Mark Twain House & Museum, Farmington Avenue, Hartford, CT', 'Statue of Liberty, Liberty Island, NYC, NY', 'Liberty Bell, 6th Street, Philadelphia, PA', 'New Castle Historic District, Delaware', 'Maryland State House, 100 State Cir, Annapolis, MD 21401', 'White House, Pennsylvania Avenue Northwest, Washington, DC', 'Mount Vernon, Fairfax County, Virginia', 'Lost World Caverns, Lewisburg, WV', 'Olympia Entertainment, Woodward Avenue, Detroit, MI', 'Spring Grove Cemetery, Spring Grove Avenue, Cincinnati, OH', 'Mammoth Cave National Park, Mammoth Cave Pkwy, Mammoth Cave, KY', 'West Baden Springs Hotel, West Baden Avenue, West Baden Springs, IN', 'Gateway Arch, Washington Avenue, St Louis, MO', 'Lincoln Home National Historic Site Visitor Center, 426 South 7th Street, Springfield, IL', 'Taliesin, County Road C, Spring Green, Wisconsin', 'Fort Snelling, Tower Avenue, Saint Paul, MN', 'Terrace Hill, Grand Avenue, Des Moines, IA', 'C. W. Parker Carousel Museum, South Esplanade Street, Leavenworth, KS', 'Ashfall Fossil Bed, Royal, NE', 'Mount Rushmore National Memorial, South Dakota 244, Keystone, SD', 'Fort Union Trading Post National Historic Site, Williston, North Dakota 1804, ND', 'Glacier National Park, West Glacier, MT', 'Yellowstone National Park, WY 82190', 'Craters of the Moon National Monument & Preserve, Arco, ID', 'Hanford Site, Benton County, WA', 'Columbia River Gorge National Scenic Area, Oregon', 'Cable Car Museum, 94108, 1201 Mason St, San Francisco, CA 94108', 'San Andreas Fault, San Benito County, CA', 'Hoover Dam, NV', 'Grand Canyon National Park, Arizona', 'Bryce Canyon National Park, Hwy 63, Bryce, UT', 'Pikes Peak, Colorado', 'Carlsbad Caverns National Park, Carlsbad, NM', 'The Alamo, Alamo Plaza, San Antonio, TX', 'Chickasaw National Recreation Area, 1008 W 2nd St, Sulphur, OK 73086', 'Toltec Mounds, Scott, AR')\n",
      "\n",
      "Generation 3000 best: 22324940 | Unique genomes: 95\n",
      "('Graceland, Elvis Presley Boulevard, Memphis, TN', 'Vicksburg National Military Park, Clay Street, Vicksburg, MS', 'French Quarter, New Orleans, LA', 'USS Alabama, Battleship Parkway, Mobile, AL', 'Cape Canaveral, FL', 'Okefenokee Swamp Park, Okefenokee Swamp Park Road, Waycross, GA', \"Fort Sumter National Monument, Sullivan's Island, SC\", 'Wright Brothers National Memorial Visitor Center, Manteo, NC', 'Congress Hall, Congress Place, Cape May, NJ 08204', 'Shelburne Farms, Harbor Road, Shelburne, VT', 'Omni Mount Washington Resort, Mount Washington Hotel Road, Bretton Woods, NH', 'Acadia National Park, Maine', 'USS Constitution, Boston, MA', 'The Breakers, Ochre Point Avenue, Newport, RI', 'The Mark Twain House & Museum, Farmington Avenue, Hartford, CT', 'Statue of Liberty, Liberty Island, NYC, NY', 'Liberty Bell, 6th Street, Philadelphia, PA', 'New Castle Historic District, Delaware', 'Maryland State House, 100 State Cir, Annapolis, MD 21401', 'White House, Pennsylvania Avenue Northwest, Washington, DC', 'Mount Vernon, Fairfax County, Virginia', 'Lost World Caverns, Lewisburg, WV', 'Olympia Entertainment, Woodward Avenue, Detroit, MI', 'Spring Grove Cemetery, Spring Grove Avenue, Cincinnati, OH', 'Mammoth Cave National Park, Mammoth Cave Pkwy, Mammoth Cave, KY', 'West Baden Springs Hotel, West Baden Avenue, West Baden Springs, IN', 'Gateway Arch, Washington Avenue, St Louis, MO', 'Lincoln Home National Historic Site Visitor Center, 426 South 7th Street, Springfield, IL', 'Taliesin, County Road C, Spring Green, Wisconsin', 'Fort Snelling, Tower Avenue, Saint Paul, MN', 'Terrace Hill, Grand Avenue, Des Moines, IA', 'C. W. Parker Carousel Museum, South Esplanade Street, Leavenworth, KS', 'Ashfall Fossil Bed, Royal, NE', 'Mount Rushmore National Memorial, South Dakota 244, Keystone, SD', 'Fort Union Trading Post National Historic Site, Williston, North Dakota 1804, ND', 'Glacier National Park, West Glacier, MT', 'Yellowstone National Park, WY 82190', 'Craters of the Moon National Monument & Preserve, Arco, ID', 'Hanford Site, Benton County, WA', 'Columbia River Gorge National Scenic Area, Oregon', 'Cable Car Museum, 94108, 1201 Mason St, San Francisco, CA 94108', 'San Andreas Fault, San Benito County, CA', 'Hoover Dam, NV', 'Grand Canyon National Park, Arizona', 'Bryce Canyon National Park, Hwy 63, Bryce, UT', 'Pikes Peak, Colorado', 'Carlsbad Caverns National Park, Carlsbad, NM', 'The Alamo, Alamo Plaza, San Antonio, TX', 'Chickasaw National Recreation Area, 1008 W 2nd St, Sulphur, OK 73086', 'Toltec Mounds, Scott, AR')\n",
      "\n",
      "Generation 4000 best: 22324940 | Unique genomes: 97\n",
      "('Graceland, Elvis Presley Boulevard, Memphis, TN', 'Vicksburg National Military Park, Clay Street, Vicksburg, MS', 'French Quarter, New Orleans, LA', 'USS Alabama, Battleship Parkway, Mobile, AL', 'Cape Canaveral, FL', 'Okefenokee Swamp Park, Okefenokee Swamp Park Road, Waycross, GA', \"Fort Sumter National Monument, Sullivan's Island, SC\", 'Wright Brothers National Memorial Visitor Center, Manteo, NC', 'Congress Hall, Congress Place, Cape May, NJ 08204', 'Shelburne Farms, Harbor Road, Shelburne, VT', 'Omni Mount Washington Resort, Mount Washington Hotel Road, Bretton Woods, NH', 'Acadia National Park, Maine', 'USS Constitution, Boston, MA', 'The Breakers, Ochre Point Avenue, Newport, RI', 'The Mark Twain House & Museum, Farmington Avenue, Hartford, CT', 'Statue of Liberty, Liberty Island, NYC, NY', 'Liberty Bell, 6th Street, Philadelphia, PA', 'New Castle Historic District, Delaware', 'Maryland State House, 100 State Cir, Annapolis, MD 21401', 'White House, Pennsylvania Avenue Northwest, Washington, DC', 'Mount Vernon, Fairfax County, Virginia', 'Lost World Caverns, Lewisburg, WV', 'Olympia Entertainment, Woodward Avenue, Detroit, MI', 'Spring Grove Cemetery, Spring Grove Avenue, Cincinnati, OH', 'Mammoth Cave National Park, Mammoth Cave Pkwy, Mammoth Cave, KY', 'West Baden Springs Hotel, West Baden Avenue, West Baden Springs, IN', 'Gateway Arch, Washington Avenue, St Louis, MO', 'Lincoln Home National Historic Site Visitor Center, 426 South 7th Street, Springfield, IL', 'Taliesin, County Road C, Spring Green, Wisconsin', 'Fort Snelling, Tower Avenue, Saint Paul, MN', 'Terrace Hill, Grand Avenue, Des Moines, IA', 'C. W. Parker Carousel Museum, South Esplanade Street, Leavenworth, KS', 'Ashfall Fossil Bed, Royal, NE', 'Mount Rushmore National Memorial, South Dakota 244, Keystone, SD', 'Fort Union Trading Post National Historic Site, Williston, North Dakota 1804, ND', 'Glacier National Park, West Glacier, MT', 'Yellowstone National Park, WY 82190', 'Craters of the Moon National Monument & Preserve, Arco, ID', 'Hanford Site, Benton County, WA', 'Columbia River Gorge National Scenic Area, Oregon', 'Cable Car Museum, 94108, 1201 Mason St, San Francisco, CA 94108', 'San Andreas Fault, San Benito County, CA', 'Hoover Dam, NV', 'Grand Canyon National Park, Arizona', 'Bryce Canyon National Park, Hwy 63, Bryce, UT', 'Pikes Peak, Colorado', 'Carlsbad Caverns National Park, Carlsbad, NM', 'The Alamo, Alamo Plaza, San Antonio, TX', 'Chickasaw National Recreation Area, 1008 W 2nd St, Sulphur, OK 73086', 'Toltec Mounds, Scott, AR')\n",
      "\n",
      "Generation 4999 best: 22324940 | Unique genomes: 99\n",
      "('Graceland, Elvis Presley Boulevard, Memphis, TN', 'Vicksburg National Military Park, Clay Street, Vicksburg, MS', 'French Quarter, New Orleans, LA', 'USS Alabama, Battleship Parkway, Mobile, AL', 'Cape Canaveral, FL', 'Okefenokee Swamp Park, Okefenokee Swamp Park Road, Waycross, GA', \"Fort Sumter National Monument, Sullivan's Island, SC\", 'Wright Brothers National Memorial Visitor Center, Manteo, NC', 'Congress Hall, Congress Place, Cape May, NJ 08204', 'Shelburne Farms, Harbor Road, Shelburne, VT', 'Omni Mount Washington Resort, Mount Washington Hotel Road, Bretton Woods, NH', 'Acadia National Park, Maine', 'USS Constitution, Boston, MA', 'The Breakers, Ochre Point Avenue, Newport, RI', 'The Mark Twain House & Museum, Farmington Avenue, Hartford, CT', 'Statue of Liberty, Liberty Island, NYC, NY', 'Liberty Bell, 6th Street, Philadelphia, PA', 'New Castle Historic District, Delaware', 'Maryland State House, 100 State Cir, Annapolis, MD 21401', 'White House, Pennsylvania Avenue Northwest, Washington, DC', 'Mount Vernon, Fairfax County, Virginia', 'Lost World Caverns, Lewisburg, WV', 'Olympia Entertainment, Woodward Avenue, Detroit, MI', 'Spring Grove Cemetery, Spring Grove Avenue, Cincinnati, OH', 'Mammoth Cave National Park, Mammoth Cave Pkwy, Mammoth Cave, KY', 'West Baden Springs Hotel, West Baden Avenue, West Baden Springs, IN', 'Gateway Arch, Washington Avenue, St Louis, MO', 'Lincoln Home National Historic Site Visitor Center, 426 South 7th Street, Springfield, IL', 'Taliesin, County Road C, Spring Green, Wisconsin', 'Fort Snelling, Tower Avenue, Saint Paul, MN', 'Terrace Hill, Grand Avenue, Des Moines, IA', 'C. W. Parker Carousel Museum, South Esplanade Street, Leavenworth, KS', 'Ashfall Fossil Bed, Royal, NE', 'Mount Rushmore National Memorial, South Dakota 244, Keystone, SD', 'Fort Union Trading Post National Historic Site, Williston, North Dakota 1804, ND', 'Glacier National Park, West Glacier, MT', 'Yellowstone National Park, WY 82190', 'Craters of the Moon National Monument & Preserve, Arco, ID', 'Hanford Site, Benton County, WA', 'Columbia River Gorge National Scenic Area, Oregon', 'Cable Car Museum, 94108, 1201 Mason St, San Francisco, CA 94108', 'San Andreas Fault, San Benito County, CA', 'Hoover Dam, NV', 'Grand Canyon National Park, Arizona', 'Bryce Canyon National Park, Hwy 63, Bryce, UT', 'Pikes Peak, Colorado', 'Carlsbad Caverns National Park, Carlsbad, NM', 'The Alamo, Alamo Plaza, San Antonio, TX', 'Chickasaw National Recreation Area, 1008 W 2nd St, Sulphur, OK 73086', 'Toltec Mounds, Scott, AR')\n",
      "\n"
     ]
    }
   ],
   "source": [
    "run_genetic_algorithm(generations=5000, population_size=100)"
   ]
  },
  {
   "cell_type": "markdown",
   "metadata": {},
   "source": [
    "### Visualize your road trip on a Google map"
   ]
  },
  {
   "cell_type": "markdown",
   "metadata": {},
   "source": [
    "Now that we have an ordered list of the waypoints, we should put them on a Google map so we can see the trip from a high level and make any extra adjustments.\n",
    "\n",
    "There's no easy way to make this visualization in Python, but the Google Maps team provides a nice JavaScript library for visualizing routes on a Google Map.\n",
    "\n",
    "Here's an example map with the route between 50 waypoints visualized: [link](http://rhiever.github.io/optimal-roadtrip-usa/major-landmarks.html)\n",
    "\n",
    "The tricky part here is that the JavaScript library only plots routes with a maximum of 10 waypoints. If we want to plot a route with >10 waypoints, we need to call the route plotting function multiple times.\n",
    "\n",
    "Thanks to some optimizations by [Nicholas Clarke](https://github.com/nicholasgodfreyclarke) to my original map, this is a simple operation:\n",
    "\n",
    "1) Copy the final route generated by the genetic algorithm above.\n",
    "\n",
    "2) Place brackets (`[` & `]`) around the route, e.g.,\n",
    "\n",
    "    ['Graceland, Elvis Presley Boulevard, Memphis, TN', 'Vicksburg National Military Park, Clay Street, Vicksburg, MS', 'French Quarter, New Orleans, LA', 'USS Alabama, Battleship Parkway, Mobile, AL', 'Cape Canaveral, FL', 'Okefenokee Swamp Park, Okefenokee Swamp Park Road, Waycross, GA', \"Fort Sumter National Monument, Sullivan's Island, SC\", 'Wright Brothers National Memorial Visitor Center, Manteo, NC', 'Congress Hall, Congress Place, Cape May, NJ 08204', 'Shelburne Farms, Harbor Road, Shelburne, VT', 'Omni Mount Washington Resort, Mount Washington Hotel Road, Bretton Woods, NH', 'Acadia National Park, Maine', 'USS Constitution, Boston, MA', 'The Breakers, Ochre Point Avenue, Newport, RI', 'The Mark Twain House & Museum, Farmington Avenue, Hartford, CT', 'Statue of Liberty, Liberty Island, NYC, NY', 'Liberty Bell, 6th Street, Philadelphia, PA', 'New Castle Historic District, Delaware', 'Maryland State House, 100 State Cir, Annapolis, MD 21401', 'White House, Pennsylvania Avenue Northwest, Washington, DC', 'Mount Vernon, Fairfax County, Virginia', 'Lost World Caverns, Lewisburg, WV', 'Olympia Entertainment, Woodward Avenue, Detroit, MI', 'Spring Grove Cemetery, Spring Grove Avenue, Cincinnati, OH', 'Mammoth Cave National Park, Mammoth Cave Pkwy, Mammoth Cave, KY', 'West Baden Springs Hotel, West Baden Avenue, West Baden Springs, IN', 'Gateway Arch, Washington Avenue, St Louis, MO', 'Lincoln Home National Historic Site Visitor Center, 426 South 7th Street, Springfield, IL', 'Taliesin, County Road C, Spring Green, Wisconsin', 'Fort Snelling, Tower Avenue, Saint Paul, MN', 'Terrace Hill, Grand Avenue, Des Moines, IA', 'C. W. Parker Carousel Museum, South Esplanade Street, Leavenworth, KS', 'Ashfall Fossil Bed, Royal, NE', 'Mount Rushmore National Memorial, South Dakota 244, Keystone, SD', 'Fort Union Trading Post National Historic Site, Williston, North Dakota 1804, ND', 'Glacier National Park, West Glacier, MT', 'Yellowstone National Park, WY 82190', 'Craters of the Moon National Monument & Preserve, Arco, ID', 'Hanford Site, Benton County, WA', 'Columbia River Gorge National Scenic Area, Oregon', 'Cable Car Museum, 94108, 1201 Mason St, San Francisco, CA 94108', 'San Andreas Fault, San Benito County, CA', 'Hoover Dam, NV', 'Grand Canyon National Park, Arizona', 'Bryce Canyon National Park, Hwy 63, Bryce, UT', 'Pikes Peak, Colorado', 'Carlsbad Caverns National Park, Carlsbad, NM', 'The Alamo, Alamo Plaza, San Antonio, TX', 'Chickasaw National Recreation Area, 1008 W 2nd St, Sulphur, OK 73086', 'Toltec Mounds, Scott, AR']\n",
    "\n",
    "3) Paste the final route with brackets into [line 93](https://github.com/rhiever/optimal-roadtrip-usa/blob/gh-pages/major-landmarks.html#L93) of my road trip map code. It should look like this:\n",
    "\n",
    "    optimal_route = [ ... ]\n",
    "    \n",
    "where `...` is your optimized road trip.\n",
    "\n",
    "That's all it takes! Now you have your own optimized road trip ready to show off to the world."
   ]
  },
  {
   "cell_type": "markdown",
   "metadata": {},
   "source": [
    "### Some technical notes"
   ]
  },
  {
   "cell_type": "markdown",
   "metadata": {},
   "source": [
    "As I mentioned in the [original article](http://www.randalolson.com/2015/03/08/computing-the-optimal-road-trip-across-the-u-s/), by the end of 5,000 generations, the genetic algorithm will very likely find a *good* but probably not the *absolute best* solution to the optimal routing problem. It is in the nature of genetic algorithms that we never know if we found the absolute best solution.\n",
    "\n",
    "However, there exist some brilliant analytical solutions to the optimal routing problem such as the [Concorde TSP solver](http://en.wikipedia.org/wiki/Concorde_TSP_Solver). If you're interested in learning more about Concorde and how it's possible to find a perfect solution to the routing problem, I advise you check out [Bill Cook's article](http://www.math.uwaterloo.ca/tsp/usa50/index.html) on the topic."
   ]
  },
  {
   "cell_type": "markdown",
   "metadata": {},
   "source": [
    "### If you have any questions"
   ]
  },
  {
   "cell_type": "markdown",
   "metadata": {},
   "source": [
    "Please feel free to:\n",
    "\n",
    "* [Email me](http://www.randalolson.com/contact/),\n",
    "\n",
    "* [Tweet](https://twitter.com/randal_olson) at me, or\n",
    "\n",
    "* comment on the [blog post](http://www.randalolson.com/2015/03/08/computing-the-optimal-road-trip-across-the-u-s/)\n",
    "\n",
    "I'm usually pretty good about getting back to people within a day or two."
   ]
  }
 ],
 "metadata": {
  "kernelspec": {
   "display_name": "Python 3",
   "language": "python",
   "name": "python3"
  },
  "language_info": {
   "codemirror_mode": {
    "name": "ipython",
    "version": 3
   },
   "file_extension": ".py",
   "mimetype": "text/x-python",
   "name": "python",
   "nbconvert_exporter": "python",
   "pygments_lexer": "ipython3",
   "version": "3.4.3"
  }
 },
 "nbformat": 4,
 "nbformat_minor": 0
}
